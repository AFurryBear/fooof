{
 "cells": [
  {
   "cell_type": "code",
   "execution_count": 8,
   "metadata": {},
   "outputs": [
    {
     "name": "stdout",
     "output_type": "stream",
     "text": [
      "The autoreload extension is already loaded. To reload it, use:\n",
      "  %reload_ext autoreload\n"
     ]
    }
   ],
   "source": [
    "%load_ext autoreload\n",
    "%matplotlib inline\n",
    "\n",
    "import numpy as np\n",
    "import matplotlib.pyplot as plt\n",
    "from operator import itemgetter\n",
    "\n",
    "#from matplotlib import rcParams\n",
    "#rcParams['figure.figsize'] = 16, 12\n",
    "#rcParams['font.family'] = 'sans-serif'\n",
    "#rcParams['font.sans-serif'] = ['Tahoma']"
   ]
  },
  {
   "cell_type": "markdown",
   "metadata": {},
   "source": [
    "## Load MEG Data for Testing (Using omegamappin-library)"
   ]
  },
  {
   "cell_type": "code",
   "execution_count": null,
   "metadata": {
    "collapsed": true
   },
   "outputs": [],
   "source": [
    "import sys\n",
    "sys.path.append('/Users/tom/Documents/GitCode/omegamappin/')\n",
    "\n",
    "from om.core.db import OMDB\n",
    "from om.core.io import load_meg_psds"
   ]
  },
  {
   "cell_type": "code",
   "execution_count": null,
   "metadata": {},
   "outputs": [],
   "source": [
    "# Get database and path details from OMDB class\n",
    "db = OMDB()\n",
    "# Check available subject numbers for PSD files\n",
    "sub_nums = db.check_dat_files('PSD')"
   ]
  },
  {
   "cell_type": "code",
   "execution_count": null,
   "metadata": {
    "collapsed": true
   },
   "outputs": [],
   "source": [
    "# Get PSD files\n",
    "psd_files, _ = db.check_dat_files('PSD', verbose=False)"
   ]
  },
  {
   "cell_type": "code",
   "execution_count": null,
   "metadata": {
    "collapsed": true
   },
   "outputs": [],
   "source": [
    "# Load MEG Data\n",
    "subj = 352132\n",
    "psd, freqs = load_meg_psds('HCP', db.psd_path, subj)"
   ]
  },
  {
   "cell_type": "code",
   "execution_count": null,
   "metadata": {},
   "outputs": [],
   "source": [
    "# Set which PSD to run\n",
    "# 4799\n",
    "cur_psd = np.log10(psd[4799, :])\n",
    "#cur_psd = np.log10(psd[6395, :])"
   ]
  },
  {
   "cell_type": "markdown",
   "metadata": {},
   "source": [
    "### Or: Load MEG Data from file"
   ]
  },
  {
   "cell_type": "code",
   "execution_count": null,
   "metadata": {
    "collapsed": true
   },
   "outputs": [],
   "source": [
    "#dat = np.load('meg_dat.npy')\n",
    "#freqs = dat[0]\n",
    "#psd = dat[1]"
   ]
  },
  {
   "cell_type": "markdown",
   "metadata": {},
   "source": [
    "## Load EEG data for testing"
   ]
  },
  {
   "cell_type": "code",
   "execution_count": null,
   "metadata": {
    "collapsed": true
   },
   "outputs": [],
   "source": [
    "# Load\n",
    "dat = np.load('data-for-tom.npy').item()\n",
    "\n",
    "# Get freqs & unembed from being an array of arrays\n",
    "freqs = dat['f']\n",
    "freqs = np.array([f[0] for f in freqs])"
   ]
  },
  {
   "cell_type": "code",
   "execution_count": null,
   "metadata": {
    "collapsed": true
   },
   "outputs": [],
   "source": [
    "# Grab psd of interest\n",
    "cur_psd = np.log10(dat[0][20]['eyeso'])"
   ]
  },
  {
   "cell_type": "code",
   "execution_count": null,
   "metadata": {
    "collapsed": true
   },
   "outputs": [],
   "source": [
    "### Load other EEG data"
   ]
  },
  {
   "cell_type": "markdown",
   "metadata": {},
   "source": [
    "### Load other EEG data"
   ]
  },
  {
   "cell_type": "code",
   "execution_count": null,
   "metadata": {
    "collapsed": true
   },
   "outputs": [],
   "source": [
    "def data_eeg(filename, freq_range):\n",
    "\n",
    "    psd_array = np.load(filename)\n",
    "    psd_array = np.log10(psd_array)\n",
    "\n",
    "    range_size = np.size(range(freq_range[1]))-np.size(range(freq_range[0]))\n",
    "    xf = np.linspace(freq_range[0], freq_range[1], range_size)\n",
    "    \n",
    "    psd_array = psd_array.T\n",
    "    \n",
    "    return psd_array, xf"
   ]
  },
  {
   "cell_type": "code",
   "execution_count": null,
   "metadata": {
    "collapsed": true
   },
   "outputs": [],
   "source": [
    "file_path = '/Users/tom/Documents/GitCode/fooof/data/eeg/'\n",
    "psd, freqs = data_eeg(file_path + '44.npy', [0, 50])"
   ]
  },
  {
   "cell_type": "code",
   "execution_count": null,
   "metadata": {
    "collapsed": true
   },
   "outputs": [],
   "source": [
    "cur_psd = psd[:, 5]"
   ]
  },
  {
   "cell_type": "markdown",
   "metadata": {},
   "source": [
    "## RUN FOOOF"
   ]
  },
  {
   "cell_type": "code",
   "execution_count": 9,
   "metadata": {
    "collapsed": true
   },
   "outputs": [],
   "source": [
    "# Custom Code Import\n",
    "%autoreload 2\n",
    "from fooof import FOOOF"
   ]
  },
  {
   "cell_type": "code",
   "execution_count": null,
   "metadata": {
    "collapsed": true
   },
   "outputs": [],
   "source": [
    "ff = FOOOF(bandwidth_limits=[0.5,8])\n",
    "f_range = [3, 40]"
   ]
  },
  {
   "cell_type": "code",
   "execution_count": null,
   "metadata": {},
   "outputs": [],
   "source": [
    "ff.model(freqs, cur_psd, f_range)"
   ]
  },
  {
   "cell_type": "code",
   "execution_count": null,
   "metadata": {
    "collapsed": true
   },
   "outputs": [],
   "source": []
  },
  {
   "cell_type": "code",
   "execution_count": null,
   "metadata": {
    "collapsed": true
   },
   "outputs": [],
   "source": []
  },
  {
   "cell_type": "code",
   "execution_count": null,
   "metadata": {
    "collapsed": true
   },
   "outputs": [],
   "source": [
    "plt.plot(ff.freqs, ff._oscillation_fit)"
   ]
  },
  {
   "cell_type": "code",
   "execution_count": null,
   "metadata": {
    "collapsed": true
   },
   "outputs": [],
   "source": [
    "ff._gaussian_params"
   ]
  },
  {
   "cell_type": "code",
   "execution_count": null,
   "metadata": {
    "collapsed": true
   },
   "outputs": [],
   "source": [
    "psd[0, :].shape"
   ]
  },
  {
   "cell_type": "code",
   "execution_count": null,
   "metadata": {
    "collapsed": true
   },
   "outputs": [],
   "source": [
    "freqs.shape"
   ]
  },
  {
   "cell_type": "code",
   "execution_count": null,
   "metadata": {
    "collapsed": true
   },
   "outputs": [],
   "source": [
    "# PSD\n",
    "for i in range(0, psd.shape[1]):\n",
    "    print(i)\n",
    "    ff.fit(freqs, psd[:, i], f_range)\n"
   ]
  },
  {
   "cell_type": "code",
   "execution_count": null,
   "metadata": {
    "collapsed": true
   },
   "outputs": [],
   "source": [
    "ff.plot()"
   ]
  },
  {
   "cell_type": "code",
   "execution_count": null,
   "metadata": {
    "collapsed": true
   },
   "outputs": [],
   "source": [
    "len(psd)"
   ]
  },
  {
   "cell_type": "code",
   "execution_count": null,
   "metadata": {},
   "outputs": [],
   "source": [
    "for i in range(0, 1000):#psd.shape[0]):\n",
    "    print(i)\n",
    "    ff.fit(freqs, np.log10(psd[i, :]), f_range)"
   ]
  },
  {
   "cell_type": "code",
   "execution_count": null,
   "metadata": {
    "collapsed": true
   },
   "outputs": [],
   "source": [
    "ff.plot()"
   ]
  },
  {
   "cell_type": "code",
   "execution_count": null,
   "metadata": {
    "collapsed": true
   },
   "outputs": [],
   "source": [
    "# For setting centering size based on consol width:\n",
    "#import os\n",
    "#print(\"hello world\".center(os.get_terminal_size().columns))"
   ]
  },
  {
   "cell_type": "code",
   "execution_count": null,
   "metadata": {
    "collapsed": true
   },
   "outputs": [],
   "source": [
    "ff.oscillation_params"
   ]
  },
  {
   "cell_type": "code",
   "execution_count": null,
   "metadata": {
    "collapsed": true
   },
   "outputs": [],
   "source": [
    "from fooof.funcs import gaussian_function"
   ]
  },
  {
   "cell_type": "code",
   "execution_count": null,
   "metadata": {
    "collapsed": true
   },
   "outputs": [],
   "source": [
    "x = np.arange(0, 20, 0.1)\n",
    "y = gaussian_function(x, ctr, amp, wid)"
   ]
  },
  {
   "cell_type": "code",
   "execution_count": null,
   "metadata": {
    "collapsed": true
   },
   "outputs": [],
   "source": [
    "plt.plot(y)"
   ]
  },
  {
   "cell_type": "code",
   "execution_count": null,
   "metadata": {
    "collapsed": true
   },
   "outputs": [],
   "source": []
  },
  {
   "cell_type": "code",
   "execution_count": null,
   "metadata": {
    "collapsed": true
   },
   "outputs": [],
   "source": [
    "x = np.arange(0, 20, 0.1)\n",
    "\n",
    "y1 = np.zeros_like(x)\n",
    "y2 = np.zeros_like(x)\n",
    "y3 = np.zeros_like(x)\n",
    "\n",
    "ctr = 10\n",
    "amp = 1\n",
    "wid = 2"
   ]
  },
  {
   "cell_type": "code",
   "execution_count": null,
   "metadata": {
    "collapsed": true
   },
   "outputs": [],
   "source": [
    "y1 = y1 + amp * np.exp(-((x - ctr) / wid)**2)\n",
    "\n",
    "y2 = y2 + amp * np.exp(-(x - ctr)**2 / (wid)**2)\n",
    "\n",
    "y3 = y3 + amp * np.exp(-(x - ctr)**2 / (2 * wid**2))"
   ]
  },
  {
   "cell_type": "code",
   "execution_count": null,
   "metadata": {
    "collapsed": true
   },
   "outputs": [],
   "source": [
    "print(np.all(y1 == y2))\n",
    "print(np.all(y2 == y3))"
   ]
  },
  {
   "cell_type": "code",
   "execution_count": null,
   "metadata": {
    "collapsed": true
   },
   "outputs": [],
   "source": [
    "plt.plot(y1)"
   ]
  },
  {
   "cell_type": "code",
   "execution_count": null,
   "metadata": {
    "collapsed": true
   },
   "outputs": [],
   "source": [
    "plt.plot(y2)"
   ]
  },
  {
   "cell_type": "code",
   "execution_count": null,
   "metadata": {
    "collapsed": true
   },
   "outputs": [],
   "source": [
    "plt.plot(y3)"
   ]
  },
  {
   "cell_type": "code",
   "execution_count": null,
   "metadata": {
    "collapsed": true
   },
   "outputs": [],
   "source": [
    "(2 * np.sqrt(2 * np.log(2)))"
   ]
  },
  {
   "cell_type": "code",
   "execution_count": null,
   "metadata": {
    "collapsed": true
   },
   "outputs": [],
   "source": [
    "le_ind = ri_ind = None"
   ]
  },
  {
   "cell_type": "code",
   "execution_count": null,
   "metadata": {
    "collapsed": true
   },
   "outputs": [],
   "source": [
    "print(le_ind)\n",
    "print(ri_ind)"
   ]
  },
  {
   "cell_type": "code",
   "execution_count": null,
   "metadata": {
    "collapsed": true
   },
   "outputs": [],
   "source": [
    "le_ind = 1\n",
    "ri_ind = 2"
   ]
  },
  {
   "cell_type": "code",
   "execution_count": null,
   "metadata": {
    "collapsed": true
   },
   "outputs": [],
   "source": []
  },
  {
   "cell_type": "code",
   "execution_count": null,
   "metadata": {
    "collapsed": true
   },
   "outputs": [],
   "source": [
    "it = np.arange(10)"
   ]
  },
  {
   "cell_type": "code",
   "execution_count": null,
   "metadata": {
    "collapsed": true
   },
   "outputs": [],
   "source": [
    "next(x for x in it if x > 3)"
   ]
  },
  {
   "cell_type": "code",
   "execution_count": null,
   "metadata": {
    "collapsed": true
   },
   "outputs": [],
   "source": []
  },
  {
   "cell_type": "code",
   "execution_count": null,
   "metadata": {
    "collapsed": true
   },
   "outputs": [],
   "source": []
  },
  {
   "cell_type": "code",
   "execution_count": 10,
   "metadata": {
    "collapsed": true
   },
   "outputs": [],
   "source": [
    "from fooof.funcs import gaussian_function, linear_function, quadratic_function\n",
    "from fooof.tests.test_fooof import mk_fake_data"
   ]
  },
  {
   "cell_type": "code",
   "execution_count": 11,
   "metadata": {
    "collapsed": true
   },
   "outputs": [],
   "source": [
    "xs = np.arange(3, 40, 0.5)\n",
    "bgp = [-20, -0.8, 3e-15]\n",
    "oscs = [[10, 0.5, 2],\n",
    "        [20, 0.3, 4]]"
   ]
  },
  {
   "cell_type": "code",
   "execution_count": 12,
   "metadata": {
    "collapsed": true
   },
   "outputs": [],
   "source": [
    "xs, ys = mk_fake_data(xs, bgp, [it for osc in oscs for it in osc])"
   ]
  },
  {
   "cell_type": "code",
   "execution_count": 13,
   "metadata": {},
   "outputs": [
    {
     "data": {
      "text/plain": [
       "[<matplotlib.lines.Line2D at 0x11c9b6dd8>]"
      ]
     },
     "execution_count": 13,
     "metadata": {},
     "output_type": "execute_result"
    },
    {
     "data": {
      "image/png": "[encoded data removed]",
      "text/plain": [
       "<matplotlib.figure.Figure at 0x111c78160>"
      ]
     },
     "metadata": {},
     "output_type": "display_data"
    }
   ],
   "source": [
    "plt.plot(xs, ys)"
   ]
  },
  {
   "cell_type": "code",
   "execution_count": 14,
   "metadata": {},
   "outputs": [
    {
     "name": "stdout",
     "output_type": "stream",
     "text": [
      "==================================================================================================== \n",
      "\n",
      "                                          FOOOF - PSD MODEL                                          \n",
      "\n",
      "                     The input PSD was modelled in the frequency range 3-40 Hz                      \n",
      "                                 Frequency Resolution is 0.50 Hz \n",
      "                                  \n",
      "                                      Background Parameters:                                        \n",
      "                                    -19.9530, -0.8220, 3.67e-17                                     \n",
      "\n",
      "                                      2 oscillations were found:                                     \n",
      "                                 CF:  10.10, Amp:  0.479, BW:  1.87                                 \n",
      "                                 CF:  19.93, Amp:  0.275, BW:  3.74                                 \n",
      "\n",
      "                                R-squared error of model fit is 0.0129                               \n",
      "\n",
      " ====================================================================================================\n"
     ]
    },
    {
     "data": {
      "image/png": "[encoded data removed]",
      "text/plain": [
       "<matplotlib.figure.Figure at 0x11ca5b0b8>"
      ]
     },
     "metadata": {},
     "output_type": "display_data"
    }
   ],
   "source": [
    "ff = FOOOF()\n",
    "ff.model(xs, ys, [3, 40])"
   ]
  },
  {
   "cell_type": "code",
   "execution_count": 15,
   "metadata": {},
   "outputs": [
    {
     "data": {
      "text/plain": [
       "array([ -1.99530339e+01,  -8.22017844e-01,   3.67112701e-17])"
      ]
     },
     "execution_count": 15,
     "metadata": {},
     "output_type": "execute_result"
    }
   ],
   "source": [
    "ff.background_params"
   ]
  },
  {
   "cell_type": "code",
   "execution_count": 16,
   "metadata": {},
   "outputs": [
    {
     "name": "stdout",
     "output_type": "stream",
     "text": [
      "0\n",
      "[10, 0.5, 2]\n",
      "[ 10.10227678   0.47928422   1.86950331]\n",
      "[ True  True  True]\n",
      "True\n",
      "1\n",
      "[20, 0.3, 4]\n",
      "[ 19.93001327   0.27510846   3.73664616]\n",
      "[ True  True  True]\n",
      "True\n"
     ]
    }
   ],
   "source": [
    "for i, osc in enumerate(oscs):\n",
    "    print(i)\n",
    "    print(osc)\n",
    "    print(ff._gaussian_params[i])\n",
    "    print(np.isclose(osc, ff._gaussian_params[i], [1, 0.2, 0.5]))\n",
    "    print(np.all(np.isclose(osc, ff._gaussian_params[i], [1, 0.2, 0.5])))\n",
    "    assert np.all(np.isclose(osc, ff._gaussian_params[i], [1, 0.2, 0.5]))"
   ]
  },
  {
   "cell_type": "code",
   "execution_count": null,
   "metadata": {
    "collapsed": true
   },
   "outputs": [],
   "source": []
  }
 ],
 "metadata": {
  "kernelspec": {
   "display_name": "Python 3",
   "language": "python",
   "name": "python3"
  },
  "language_info": {
   "codemirror_mode": {
    "name": "ipython",
    "version": 3
   },
   "file_extension": ".py",
   "mimetype": "text/x-python",
   "name": "python",
   "nbconvert_exporter": "python",
   "pygments_lexer": "ipython3",
   "version": "3.6.1"
  }
 },
 "nbformat": 4,
 "nbformat_minor": 2
}
