{
 "cells": [
  {
   "cell_type": "code",
   "execution_count": 124,
   "metadata": {},
   "outputs": [
    {
     "name": "stdout",
     "output_type": "stream",
     "text": [
      "Once deleted, variables cannot be recovered. Proceed (y/[n])? y\n",
      "The autoreload extension is already loaded. To reload it, use:\n",
      "  %reload_ext autoreload\n"
     ]
    }
   ],
   "source": [
    "%reset\n",
    "%load_ext autoreload\n",
    "%matplotlib inline\n",
    "\n",
    "import numpy as np\n",
    "import pandas as pd\n",
    "from scipy import signal\n",
    "\n",
    "import matplotlib.pyplot as plt\n",
    "from matplotlib import rcParams\n",
    "rcParams['figure.figsize'] = 8, 6\n",
    "rcParams['font.family'] = 'sans-serif'\n",
    "rcParams['font.sans-serif'] = ['Tahoma']\n",
    "\n",
    "import warnings\n",
    "warnings.filterwarnings('ignore')\n",
    "\n",
    "import mne\n",
    "from mne import io\n",
    "\n",
    "from fooof.fooof import *\n",
    "\n",
    "import os\n",
    "\n",
    "def data_eeg(chandat, srate):\n",
    "    # make the PSD\n",
    "    window_size = int(srate*10)\n",
    "    overlap = int(window_size * 0.5)\n",
    "\n",
    "    xf, _, psd_array = signal.spectrogram(chandat, fs=srate, window=('hanning'), nperseg=window_size, noverlap=overlap)\n",
    "    psd_array = psd_array.astype('float64')\n",
    "    psd_array = np.nanmean(psd_array,1)\n",
    "    psd_array = np.log10(psd_array)\n",
    "\n",
    "    return psd_array, xf\n",
    "\n",
    "def group_three(vec):\n",
    "    \"\"\"Takes array of inputs, groups by three.\"\"\"\n",
    "    \n",
    "    return [list(vec[i:i+3]) for i in range(0, len(vec), 3)]"
   ]
  },
  {
   "cell_type": "code",
   "execution_count": 105,
   "metadata": {},
   "outputs": [
    {
     "name": "stdout",
     "output_type": "stream",
     "text": [
      "The data contains 'boundary' events, indicating data discontinuities. Be cautious of filtering and epoching around these events.\n",
      "Events like the following will be dropped entirely: ['boundary'], 1 in total\n",
      "10/2409 event codes could not be mapped to integers. Use the 'event_id' parameter to map such events manually.\n",
      "Reading eegwm/11-JS.fdt\n",
      "[[12.193858037553801, 0.23038752529686415, 2.4326593518739115]]\n"
     ]
    },
    {
     "data": {
      "image/png": "[encoded data removed]",
      "text/plain": [
       "<matplotlib.figure.Figure at 0x110d0ae48>"
      ]
     },
     "metadata": {},
     "output_type": "display_data"
    }
   ],
   "source": [
    "fname = 'eegwm/11-JS.set'\n",
    "\n",
    "raw = io.read_raw_eeglab(fname)\n",
    "\n",
    "data, times = raw[0:64, :]\n",
    "srate = raw.info['sfreq']\n",
    "\n",
    "freq_range = [0, 50]\n",
    "\n",
    "# FOOOF SETTINGS\n",
    "window_around_max = 3\n",
    "number_of_gaussians = 3\n",
    "cut_freqs = [1, 24]\n",
    "bw_limits = [1, 4]\n",
    "\n",
    "chan_i = 15\n",
    "psd_array, freqs = data_eeg(data[chan_i,:], srate)\n",
    "psd_array = np.vstack((psd_array, psd_array))\n",
    "psd_array = psd_array.T\n",
    "\n",
    "p_flat_real, frequency_vector, trimmed_psd, psd_fit, background_fit, gaussian_fit, background_params, oscillation_params = \\\n",
    "    fooof(freqs, psd_array, cut_freqs, number_of_gaussians, window_around_max, bw_limits)\n",
    "\n",
    "oscillation_params = group_three(oscillation_params)\n",
    "\n",
    "print(oscillation_params)\n",
    "plt.plot(frequency_vector, trimmed_psd, 'k')\n",
    "plt.plot(frequency_vector, psd_fit, 'r')\n",
    "plt.show()"
   ]
  },
  {
   "cell_type": "code",
   "execution_count": 125,
   "metadata": {},
   "outputs": [
    {
     "name": "stdout",
     "output_type": "stream",
     "text": [
      "The data contains 'boundary' events, indicating data discontinuities. Be cautious of filtering and epoching around these events.\n",
      "Events like the following will be dropped entirely: ['boundary'], 1 in total\n",
      "10/2409 event codes could not be mapped to integers. Use the 'event_id' parameter to map such events manually.\n",
      "Reading /Users/Voytek/fooof/eegwm/11-JS.fdt\n",
      "The data contains 'boundary' events, indicating data discontinuities. Be cautious of filtering and epoching around these events.\n",
      "Events like the following will be dropped entirely: ['boundary'], 1 in total\n",
      "10/2409 event codes could not be mapped to integers. Use the 'event_id' parameter to map such events manually.\n",
      "Reading /Users/Voytek/fooof/eegwm/12-DF.fdt\n",
      "The data contains 'boundary' events, indicating data discontinuities. Be cautious of filtering and epoching around these events.\n",
      "Events like the following will be dropped entirely: ['boundary'], 1 in total\n",
      "8/1927 event codes could not be mapped to integers. Use the 'event_id' parameter to map such events manually.\n",
      "Reading /Users/Voytek/fooof/eegwm/13-JV.fdt\n",
      "The data contains 'boundary' events, indicating data discontinuities. Be cautious of filtering and epoching around these events.\n",
      "Events like the following will be dropped entirely: ['boundary'], 1 in total\n",
      "10/2409 event codes could not be mapped to integers. Use the 'event_id' parameter to map such events manually.\n",
      "Reading /Users/Voytek/fooof/eegwm/14-SM.fdt\n",
      "The data contains 'boundary' events, indicating data discontinuities. Be cautious of filtering and epoching around these events.\n",
      "Events like the following will be dropped entirely: ['boundary'], 1 in total\n",
      "8/1927 event codes could not be mapped to integers. Use the 'event_id' parameter to map such events manually.\n",
      "Reading /Users/Voytek/fooof/eegwm/15-LH.fdt\n",
      "The data contains 'boundary' events, indicating data discontinuities. Be cautious of filtering and epoching around these events.\n",
      "Events like the following will be dropped entirely: ['boundary'], 1 in total\n",
      "8/1928 event codes could not be mapped to integers. Use the 'event_id' parameter to map such events manually.\n",
      "Reading /Users/Voytek/fooof/eegwm/16-KW.fdt\n",
      "The data contains 'boundary' events, indicating data discontinuities. Be cautious of filtering and epoching around these events.\n",
      "Events like the following will be dropped entirely: ['boundary'], 1 in total\n",
      "8/1934 event codes could not be mapped to integers. Use the 'event_id' parameter to map such events manually.\n",
      "Reading /Users/Voytek/fooof/eegwm/17-ML.fdt\n",
      "The data contains 'boundary' events, indicating data discontinuities. Be cautious of filtering and epoching around these events.\n",
      "Events like the following will be dropped entirely: ['boundary'], 1 in total\n",
      "9/2168 event codes could not be mapped to integers. Use the 'event_id' parameter to map such events manually.\n",
      "Reading /Users/Voytek/fooof/eegwm/22-TB.fdt\n",
      "The data contains 'boundary' events, indicating data discontinuities. Be cautious of filtering and epoching around these events.\n",
      "Events like the following will be dropped entirely: ['boundary'], 1 in total\n",
      "10/2409 event codes could not be mapped to integers. Use the 'event_id' parameter to map such events manually.\n",
      "Reading /Users/Voytek/fooof/eegwm/23-AS.fdt\n",
      "The data contains 'boundary' events, indicating data discontinuities. Be cautious of filtering and epoching around these events.\n",
      "Events like the following will be dropped entirely: ['boundary'], 1 in total\n",
      "8/1927 event codes could not be mapped to integers. Use the 'event_id' parameter to map such events manually.\n",
      "Reading /Users/Voytek/fooof/eegwm/24-NB.fdt\n",
      "The data contains 'boundary' events, indicating data discontinuities. Be cautious of filtering and epoching around these events.\n",
      "Events like the following will be dropped entirely: ['boundary'], 1 in total\n",
      "10/2409 event codes could not be mapped to integers. Use the 'event_id' parameter to map such events manually.\n",
      "Reading /Users/Voytek/fooof/eegwm/25-EB.fdt\n"
     ]
    }
   ],
   "source": [
    "col_file = []\n",
    "col_chan = []\n",
    "col_cf = []\n",
    "col_amp = []\n",
    "col_bw = []\n",
    "col_offset = []\n",
    "col_slope = []\n",
    "col_curve = []\n",
    "\n",
    "eeg_chans = range(0,64)\n",
    "\n",
    "my_dir = '/Users/Voytek/fooof/eegwm'\n",
    "for file in os.listdir(my_dir):\n",
    "    if file.endswith('.set'):\n",
    "        # lfp\n",
    "        filename = os.path.join(my_dir, file)\n",
    "        \n",
    "        raw = io.read_raw_eeglab(filename)\n",
    "\n",
    "        data, times = raw[eeg_chans, :]\n",
    "        srate = raw.info['sfreq']\n",
    "\n",
    "        freq_range = [0, 50]\n",
    "\n",
    "        # FOOOF SETTINGS\n",
    "        window_around_max = 3\n",
    "        number_of_gaussians = 3\n",
    "        cut_freqs = [1, 24]\n",
    "        bw_limits = [1, 4]\n",
    "\n",
    "        for chan_i in range(np.shape(data)[0]):\n",
    "            psd_array, freqs = data_eeg(data[chan_i,:], srate)\n",
    "            psd_array = np.vstack((psd_array, psd_array))\n",
    "            psd_array = psd_array.T\n",
    "\n",
    "            p_flat_real, frequency_vector, trimmed_psd, psd_fit, background_fit, gaussian_fit, background_params, oscillation_params = \\\n",
    "                fooof(freqs, psd_array, cut_freqs, number_of_gaussians, window_around_max, bw_limits)\n",
    "\n",
    "            if np.any(oscillation_params):\n",
    "                oscillation_params = group_three(oscillation_params)\n",
    "\n",
    "                for i in range(np.shape(oscillation_params)[0]):\n",
    "                    col_cf.append(oscillation_params[i][0])\n",
    "                    col_amp.append(oscillation_params[i][1])\n",
    "                    col_bw.append(oscillation_params[i][2])\n",
    "                    col_offset.append(background_params[0])\n",
    "                    col_slope.append(background_params[1])\n",
    "                    col_curve.append(background_params[2])\n",
    "                    col_file.append(file)\n",
    "                    col_chan.append((chan_i + 1))\n",
    "            else:\n",
    "                col_cf.append(0)\n",
    "                col_amp.append(0)\n",
    "                col_bw.append(0)\n",
    "                col_offset.append(background_params[0])\n",
    "                col_slope.append(background_params[1])\n",
    "                col_curve.append(background_params[2])\n",
    "                col_file.append(file)\n",
    "                col_chan.append((chan_i + 1))\n"
   ]
  },
  {
   "cell_type": "code",
   "execution_count": 126,
   "metadata": {},
   "outputs": [],
   "source": [
    "d = {'file': col_file, 'chan': col_chan, 'cf': col_cf, 'amp': col_amp, 'bw': col_bw, 'offset': col_offset, 'slope': col_slope, 'curve': col_curve}\n",
    "df = pd.DataFrame(data=d)\n",
    "df = df[['file', 'chan', 'cf', 'amp', 'bw', 'offset', 'slope', 'curve']]\n",
    "df.to_csv('wm_eeg.csv', sep=',', index = False)"
   ]
  },
  {
   "cell_type": "code",
   "execution_count": 119,
   "metadata": {},
   "outputs": [
    {
     "data": {
      "text/plain": [
       "((704,), (704,))"
      ]
     },
     "execution_count": 119,
     "metadata": {},
     "output_type": "execute_result"
    }
   ],
   "source": [
    "np.shape(col_file), np.shape(col_chan)"
   ]
  },
  {
   "cell_type": "code",
   "execution_count": 121,
   "metadata": {},
   "outputs": [
    {
     "data": {
      "text/plain": [
       "((1146,), (1146,), (1146,))"
      ]
     },
     "execution_count": 121,
     "metadata": {},
     "output_type": "execute_result"
    }
   ],
   "source": [
    "np.shape(col_cf), np.shape(col_amp), np.shape(col_bw)"
   ]
  },
  {
   "cell_type": "code",
   "execution_count": 122,
   "metadata": {},
   "outputs": [
    {
     "data": {
      "text/plain": [
       "((704,), (704,), (704,))"
      ]
     },
     "execution_count": 122,
     "metadata": {},
     "output_type": "execute_result"
    }
   ],
   "source": [
    "np.shape(col_offset), np.shape(col_slope), np.shape(col_curve)"
   ]
  },
  {
   "cell_type": "code",
   "execution_count": null,
   "metadata": {
    "collapsed": true
   },
   "outputs": [],
   "source": []
  }
 ],
 "metadata": {
  "kernelspec": {
   "display_name": "Python 3",
   "language": "python",
   "name": "python3"
  },
  "language_info": {
   "codemirror_mode": {
    "name": "ipython",
    "version": 3
   },
   "file_extension": ".py",
   "mimetype": "text/x-python",
   "name": "python",
   "nbconvert_exporter": "python",
   "pygments_lexer": "ipython3",
   "version": "3.5.3"
  }
 },
 "nbformat": 4,
 "nbformat_minor": 2
}
