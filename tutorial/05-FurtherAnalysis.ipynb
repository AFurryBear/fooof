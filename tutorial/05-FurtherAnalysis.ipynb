{
 "cells": [
  {
   "cell_type": "code",
   "execution_count": null,
   "metadata": {
    "collapsed": true
   },
   "outputs": [],
   "source": []
  },
  {
   "cell_type": "markdown",
   "metadata": {},
   "source": [
    "### Note on Model Fit Error\n",
    "\n",
    "FOOOF calculates the model fit error as the R^2 error between the full psd_fit and the original PSD, and these scores cna be used to assess how the model is performing.\n",
    "\n",
    "Note, however, that FOOOF is NOT optimized to minimize this fit error at all costs. To do so typically results in fitting a large number of gaussian processes, in a way that overfits noise. The purpose of FOOOF is to measure PSD slope, and regions of oscillatory processes. As much as possible, FOOOF is tuned to only fit gaussians to regions in which there is power over and above the noise of the background process, in which an expert human rater would consider there to be an oscillatory 'bump'. \n",
    "\n",
    "Given this, while high R^2 error may indicate a poor model fit, very low R^2 error may also indicate a PSD that is overfit, in which case the oscillation parameters from the model may not accurately reflect oscillatory regions. "
   ]
  },
  {
   "cell_type": "code",
   "execution_count": null,
   "metadata": {
    "collapsed": true
   },
   "outputs": [],
   "source": []
  },
  {
   "cell_type": "code",
   "execution_count": null,
   "metadata": {
    "collapsed": true
   },
   "outputs": [],
   "source": []
  },
  {
   "cell_type": "markdown",
   "metadata": {},
   "source": [
    "### Tuning FOOOF\n",
    "\n",
    "Most commonly, FOOOF will overfit, being overzealous at fitting small noisy bumps as oscillations. For a given dataset, a combination of increasing the minimum bandwidth, increasing one or both of the amplitude settings, and setting an upper limit on the possible number of oscillations can assist in making FOOOF more conservative in what it defines as an oscillation."
   ]
  },
  {
   "cell_type": "code",
   "execution_count": null,
   "metadata": {
    "collapsed": true
   },
   "outputs": [],
   "source": []
  },
  {
   "cell_type": "code",
   "execution_count": null,
   "metadata": {
    "collapsed": true
   },
   "outputs": [],
   "source": []
  }
 ],
 "metadata": {
  "kernelspec": {
   "display_name": "Python 3",
   "language": "python",
   "name": "python3"
  },
  "language_info": {
   "codemirror_mode": {
    "name": "ipython",
    "version": 3
   },
   "file_extension": ".py",
   "mimetype": "text/x-python",
   "name": "python",
   "nbconvert_exporter": "python",
   "pygments_lexer": "ipython3",
   "version": "3.6.1"
  }
 },
 "nbformat": 4,
 "nbformat_minor": 2
}
