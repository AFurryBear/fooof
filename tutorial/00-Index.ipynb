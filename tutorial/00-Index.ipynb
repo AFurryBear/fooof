{
 "cells": [
  {
   "cell_type": "markdown",
   "metadata": {},
   "source": [
    "INDEX:\n",
    "\n",
    "- [Model Description](ModelDescription.ipynb)\n",
    "    - Words, words, words.\n",
    "    \n",
    "\n",
    "- [FOOOF](01-FOOOF.ipynb)\n",
    "    - Words, words, words.\n",
    "    \n",
    "    \n",
    "- [FOOOFGroup](02-FOOOFGroup.ipynb)\n",
    "    - Words, words, words.\n",
    "    \n",
    "    \n",
    "- [Tuning & Troubleshooting](03-Tuning&Troubleshooting)\n",
    "    - Words, words, words.\n",
    "    \n",
    "    \n",
    "- [Further Analysis](04-FurtherAnalysis.ipynb)\n",
    "    - Words, words, words.\n",
    "    \n",
    "    "
   ]
  },
  {
   "cell_type": "code",
   "execution_count": null,
   "metadata": {
    "collapsed": true
   },
   "outputs": [],
   "source": []
  }
 ],
 "metadata": {
  "kernelspec": {
   "display_name": "Python 3",
   "language": "python",
   "name": "python3"
  },
  "language_info": {
   "codemirror_mode": {
    "name": "ipython",
    "version": 3
   },
   "file_extension": ".py",
   "mimetype": "text/x-python",
   "name": "python",
   "nbconvert_exporter": "python",
   "pygments_lexer": "ipython3",
   "version": "3.6.1"
  }
 },
 "nbformat": 4,
 "nbformat_minor": 2
}
