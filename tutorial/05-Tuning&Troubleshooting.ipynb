{
 "cells": [
  {
   "cell_type": "markdown",
   "metadata": {},
   "source": [
    "# FOOOF: Tuning & Troubleshooting"
   ]
  },
  {
   "cell_type": "markdown",
   "metadata": {},
   "source": [
    "<div class=\"alert alert-success\">\n",
    "WORDS. \n",
    "</div>\n",
    "\n",
    "<div class=\"alert alert-info\">\n",
    "WORDS, go [here](02-FOOOF.ipynb).\n",
    "</div>"
   ]
  },
  {
   "cell_type": "code",
   "execution_count": 63,
   "metadata": {
    "collapsed": true
   },
   "outputs": [],
   "source": [
    "%matplotlib inline\n",
    "\n",
    "# FOOOF imports\n",
    "from fooof import FOOOF, FOOOFGroup"
   ]
  },
  {
   "cell_type": "markdown",
   "metadata": {},
   "source": [
    "### Interpreting Model Fit Error\n",
    "\n",
    "FOOOF calculates and returns both the model fit error, as the root mean-squared error (RMSE) between the full psd_fit and the original PSD, as well as the model fit, as the R^2 correspondance between the original PSD and the model fit. \n",
    "\n",
    "These scores can be used to assess how the model is performing, however there interpretation can be a little nuanced. FOOOF is NOT optimized to minimize fit error at all costs. To do so typically results in fitting a large number of gaussian processes, in a way that overfits noise.\n",
    "\n",
    "FOOOF is therefore built to measure PSD slope, and regions of oscillatory processes, optimized to a fuzzy definition of only fitting oscillations where there are actually oscillations (where an expert human rater would consider there to be an oscillatory 'bump'), as is not directly yoked to optimize model fit error / R^2.\n",
    "\n",
    "Given this, while high error / low R^2 may indicate a poor model fit, very low error / high R^2 may also indicate a PSD that is overfit, in which case the oscillation parameters from the model may include overfitting to noise and thus not accurately reflect oscillatory regions. \n",
    "\n",
    "We therefore recommend that, for a given dataset, initial explorations should involve checking both cases in which model fit error is particularly large, or particularly low, and use these explorations to set parameters that are suitable for running across a group. There are not universal parameters that optimize this, and so FOOOF leaves it up to the user to set parameters appropriately to not under- or over-fit for a given modality / dataset / application."
   ]
  },
  {
   "cell_type": "markdown",
   "metadata": {},
   "source": []
  },
  {
   "cell_type": "code",
   "execution_count": null,
   "metadata": {
    "collapsed": true
   },
   "outputs": [],
   "source": []
  },
  {
   "cell_type": "markdown",
   "metadata": {},
   "source": [
    "### Reducing Overfitting\n",
    "\n",
    "FOOOF, by default, is fairly unconstrained, and so the most likely "
   ]
  },
  {
   "cell_type": "code",
   "execution_count": null,
   "metadata": {
    "collapsed": true
   },
   "outputs": [],
   "source": []
  },
  {
   "cell_type": "code",
   "execution_count": null,
   "metadata": {
    "collapsed": true
   },
   "outputs": [],
   "source": []
  },
  {
   "cell_type": "markdown",
   "metadata": {},
   "source": [
    "### Reducing Underfitting\n",
    "\n"
   ]
  },
  {
   "cell_type": "code",
   "execution_count": null,
   "metadata": {
    "collapsed": true
   },
   "outputs": [],
   "source": []
  },
  {
   "cell_type": "markdown",
   "metadata": {},
   "source": [
    "### Tuning FOOOF Settings\n",
    "\n",
    "With default settings, FOOOF is minimally constrained. It defaults as such since there are not universal settings that work across all different dataset modalities. Appropriate settings also vary with PSD quality (noise, or effectively, the smoothness of the PSD), and frequency ranges. \n",
    "\n",
    "For any given dataset, FOOOF will likely need some tuning of parameters for optimal performance. \n",
    "\n",
    "To do so, we suggest using a combination of the following considerations:\n",
    "- A priori constraints, given your data, such as the number of oscillations you expect to extract\n",
    "- Qualitative analysis, guided by examing the the plotted model fit results, as compared to input data\n",
    "- Quantitative analysis, considering the model fit and error (however, see note at the bottom regarding interpreting model fit error)\n",
    "\n",
    "Tuning FOOOF is an imperfect art, and should be done carefully, as assumptions built into the settings chosen will impact the model results. For this reason, FOOOF settings should not be changed between PSDs (across channels, trials, or subjects), if they are to be meaningfully compared. We recommend ....\n",
    "\n"
   ]
  },
  {
   "cell_type": "code",
   "execution_count": null,
   "metadata": {
    "collapsed": true
   },
   "outputs": [],
   "source": []
  },
  {
   "cell_type": "code",
   "execution_count": null,
   "metadata": {
    "collapsed": true
   },
   "outputs": [],
   "source": []
  },
  {
   "cell_type": "markdown",
   "metadata": {},
   "source": [
    "### Reporting Bad Fits\n",
    "\n",
    "Words, words, words."
   ]
  },
  {
   "cell_type": "code",
   "execution_count": 49,
   "metadata": {},
   "outputs": [
    {
     "name": "stdout",
     "output_type": "stream",
     "text": [
      "====================================================================================================\n",
      "\n",
      "                             Contact / Reporting Information for FOOOF                              \n",
      "\n",
      "                      Please report any bugs or unexpected errors on Github.                        \n",
      "                           https://github.com/voytekresearch/fooof/issues                           \n",
      "\n",
      "     If FOOOF gives you any weird / bad fits, we would like to know, so we can make it better!      \n",
      "       To help us with this, send us a FOOOF report, and a FOOOF data file, for any bad fits.       \n",
      "\n",
      "                With a FOOOF object (fm), after fitting, run the following commands:                \n",
      "                              fm.create_report('FOOOF_bad_fit_report')                              \n",
      "                          fm.save('FOOOF_bad_fit_data', True, True, True)                           \n",
      "\n",
      "      Send the generated files ('FOOOF_bad_fit_report.pdf' & 'FOOOF_bad_fit_data.json') to us.      \n",
      "                       We will have a look, and provide any feedback we can.                        \n",
      "\n",
      "      We suggest sending individual examplars, but the above will also work with a FOOOFGroup.      \n",
      "\n",
      "                             Contact address: voytekresearch@gmail.com                              \n",
      "\n",
      "====================================================================================================\n"
     ]
    }
   ],
   "source": [
    "# FOOOF includes a helper method to print out instructions for reporting bad fits / bugs back to us\n",
    "#  Note you can also call this from FOOOFGroup, and from instances (ex: fm.print_report_issue())\n",
    "FOOOF.print_report_issue()"
   ]
  },
  {
   "cell_type": "markdown",
   "metadata": {},
   "source": []
  },
  {
   "cell_type": "markdown",
   "metadata": {
    "collapsed": true
   },
   "source": [
    "min_amp use, for no oscillations:\n",
    "\n",
    "This setting can be useful for datasets in which their may be flat PSDs, since in this case the standard deviation may be very low, leading to overfitting of small bumps as oscillations."
   ]
  },
  {
   "cell_type": "code",
   "execution_count": null,
   "metadata": {
    "collapsed": true
   },
   "outputs": [],
   "source": []
  },
  {
   "cell_type": "markdown",
   "metadata": {},
   "source": [
    "### Tuning FOOOF\n",
    "\n",
    "Most commonly, FOOOF will overfit, being overzealous at fitting small noisy bumps as oscillations. For a given dataset, a combination of increasing the minimum bandwidth, increasing one or both of the amplitude settings, and setting an upper limit on the possible number of oscillations can assist in making FOOOF more conservative in what it defines as an oscillation."
   ]
  },
  {
   "cell_type": "code",
   "execution_count": null,
   "metadata": {
    "collapsed": true
   },
   "outputs": [],
   "source": []
  },
  {
   "cell_type": "code",
   "execution_count": 31,
   "metadata": {
    "collapsed": true
   },
   "outputs": [],
   "source": [
    "def tt(ch):\n",
    "    if ch:\n",
    "        return\n",
    "    print('1')\n",
    "    print('2')"
   ]
  },
  {
   "cell_type": "code",
   "execution_count": 36,
   "metadata": {},
   "outputs": [
    {
     "name": "stdout",
     "output_type": "stream",
     "text": [
      "====================================================================================================\n",
      "\n",
      "                                          FOOOF - SETTINGS                                          \n",
      "\n",
      "                                          Fit Knee : False                                          \n",
      "                                      Bandwidth Limits : None                                       \n",
      "                                 Max Number of Oscillations : None                                  \n",
      "                                      Minimum Amplitude : None                                      \n",
      "                                     Amplitude Threshold: None                                      \n",
      "\n",
      "====================================================================================================\n"
     ]
    }
   ],
   "source": [
    "fg.print_settings()"
   ]
  },
  {
   "cell_type": "code",
   "execution_count": 40,
   "metadata": {},
   "outputs": [
    {
     "name": "stdout",
     "output_type": "stream",
     "text": [
      "<function expo_nk_function at 0x10d3abf28>\n",
      "None\n",
      "None\n",
      "None\n"
     ]
    }
   ],
   "source": [
    "print(fg._bg_fit_func)\n",
    "print(fg._bg_bounds)\n",
    "print(fg._std_limits)\n",
    "print(fg._bg_bounds)"
   ]
  },
  {
   "cell_type": "code",
   "execution_count": 54,
   "metadata": {
    "collapsed": true
   },
   "outputs": [],
   "source": [
    "import numpy as np"
   ]
  },
  {
   "cell_type": "code",
   "execution_count": 60,
   "metadata": {},
   "outputs": [
    {
     "data": {
      "text/plain": [
       "0.99345340313058117"
      ]
     },
     "execution_count": 60,
     "metadata": {},
     "output_type": "execute_result"
    }
   ],
   "source": [
    "np.corrcoef(fm.psd, fm.psd_fit_)[0][1] ** 2"
   ]
  },
  {
   "cell_type": "code",
   "execution_count": null,
   "metadata": {
    "collapsed": true
   },
   "outputs": [],
   "source": []
  },
  {
   "cell_type": "code",
   "execution_count": null,
   "metadata": {
    "collapsed": true
   },
   "outputs": [],
   "source": []
  },
  {
   "cell_type": "code",
   "execution_count": 30,
   "metadata": {
    "collapsed": true
   },
   "outputs": [],
   "source": [
    "fg.bandwidth_limits"
   ]
  },
  {
   "cell_type": "code",
   "execution_count": 57,
   "metadata": {
    "collapsed": true
   },
   "outputs": [],
   "source": [
    "fm = FOOOF()\n",
    "fm.load()"
   ]
  },
  {
   "cell_type": "code",
   "execution_count": 13,
   "metadata": {
    "collapsed": true
   },
   "outputs": [],
   "source": [
    "fg = FOOOFGroup()\n",
    "fg.load()"
   ]
  },
  {
   "cell_type": "code",
   "execution_count": 29,
   "metadata": {},
   "outputs": [
    {
     "ename": "TypeError",
     "evalue": "'NoneType' object is not iterable",
     "output_type": "error",
     "traceback": [
      "\u001b[0;31m---------------------------------------------------------------------------\u001b[0m",
      "\u001b[0;31mTypeError\u001b[0m                                 Traceback (most recent call last)",
      "\u001b[0;32m<ipython-input-29-b2d9e32a118b>\u001b[0m in \u001b[0;36m<module>\u001b[0;34m()\u001b[0m\n\u001b[0;32m----> 1\u001b[0;31m \u001b[0mfg\u001b[0m\u001b[0;34m.\u001b[0m\u001b[0mget_fooof\u001b[0m\u001b[0;34m(\u001b[0m\u001b[0;36m3\u001b[0m\u001b[0;34m,\u001b[0m \u001b[0;32mTrue\u001b[0m\u001b[0;34m)\u001b[0m\u001b[0;34m\u001b[0m\u001b[0m\n\u001b[0m",
      "\u001b[0;32m/Users/tom/Documents/GitCode/fooof/fooof/group.py\u001b[0m in \u001b[0;36mget_fooof\u001b[0;34m(self, ind, regenerate)\u001b[0m\n\u001b[1;32m    229\u001b[0m         \u001b[0;31m# Initialize a FOOOF object, with same settings as current FOOOFGroup\u001b[0m\u001b[0;34m\u001b[0m\u001b[0;34m\u001b[0m\u001b[0m\n\u001b[1;32m    230\u001b[0m         fm = FOOOF(self.bandwidth_limits, self.max_n_oscs, self.min_amp,\n\u001b[0;32m--> 231\u001b[0;31m                    self.amp_std_thresh, self.bg_use_knee, self.verbose)\n\u001b[0m\u001b[1;32m    232\u001b[0m \u001b[0;34m\u001b[0m\u001b[0m\n\u001b[1;32m    233\u001b[0m         \u001b[0;31m# Add data and results for specified single PSD\u001b[0m\u001b[0;34m\u001b[0m\u001b[0;34m\u001b[0m\u001b[0m\n",
      "\u001b[0;32m/Users/tom/Documents/GitCode/fooof/fooof/fit.py\u001b[0m in \u001b[0;36m__init__\u001b[0;34m(self, bandwidth_limits, max_n_oscs, min_amp, amp_std_thresh, bg_use_knee, verbose)\u001b[0m\n\u001b[1;32m    129\u001b[0m \u001b[0;34m\u001b[0m\u001b[0m\n\u001b[1;32m    130\u001b[0m         \u001b[0;31m# Initialize internal settings and data attributes (to None)\u001b[0m\u001b[0;34m\u001b[0m\u001b[0;34m\u001b[0m\u001b[0m\n\u001b[0;32m--> 131\u001b[0;31m         \u001b[0mself\u001b[0m\u001b[0;34m.\u001b[0m\u001b[0m_reset_settings\u001b[0m\u001b[0;34m(\u001b[0m\u001b[0;34m)\u001b[0m\u001b[0;34m\u001b[0m\u001b[0m\n\u001b[0m\u001b[1;32m    132\u001b[0m         \u001b[0mself\u001b[0m\u001b[0;34m.\u001b[0m\u001b[0m_reset_dat\u001b[0m\u001b[0;34m(\u001b[0m\u001b[0;34m)\u001b[0m\u001b[0;34m\u001b[0m\u001b[0m\n\u001b[1;32m    133\u001b[0m \u001b[0;34m\u001b[0m\u001b[0m\n",
      "\u001b[0;32m/Users/tom/Documents/GitCode/fooof/fooof/fit.py\u001b[0m in \u001b[0;36m_reset_settings\u001b[0;34m(self)\u001b[0m\n\u001b[1;32m    146\u001b[0m         \u001b[0;31m# Bandwidth limits are given in 2-sided oscillation bandwidth.\u001b[0m\u001b[0;34m\u001b[0m\u001b[0;34m\u001b[0m\u001b[0m\n\u001b[1;32m    147\u001b[0m         \u001b[0;31m#  Convert to gaussian std parameter limits.\u001b[0m\u001b[0;34m\u001b[0m\u001b[0;34m\u001b[0m\u001b[0m\n\u001b[0;32m--> 148\u001b[0;31m         \u001b[0mself\u001b[0m\u001b[0;34m.\u001b[0m\u001b[0m_std_limits\u001b[0m \u001b[0;34m=\u001b[0m \u001b[0;34m[\u001b[0m\u001b[0mbwl\u001b[0m \u001b[0;34m/\u001b[0m \u001b[0;36m2\u001b[0m \u001b[0;32mfor\u001b[0m \u001b[0mbwl\u001b[0m \u001b[0;32min\u001b[0m \u001b[0mself\u001b[0m\u001b[0;34m.\u001b[0m\u001b[0mbandwidth_limits\u001b[0m\u001b[0;34m]\u001b[0m\u001b[0;34m\u001b[0m\u001b[0m\n\u001b[0m\u001b[1;32m    149\u001b[0m         \u001b[0;31m# Bounds for background fitting. Drops bounds on knee parameter if not set to fit knee\u001b[0m\u001b[0;34m\u001b[0m\u001b[0;34m\u001b[0m\u001b[0m\n\u001b[1;32m    150\u001b[0m         \u001b[0mself\u001b[0m\u001b[0;34m.\u001b[0m\u001b[0m_bg_bounds\u001b[0m \u001b[0;34m=\u001b[0m \u001b[0mself\u001b[0m\u001b[0;34m.\u001b[0m\u001b[0m_bg_bounds\u001b[0m \u001b[0;32mif\u001b[0m \u001b[0mself\u001b[0m\u001b[0;34m.\u001b[0m\u001b[0mbg_use_knee\u001b[0m\u001b[0;31m \u001b[0m\u001b[0;31m\\\u001b[0m\u001b[0;34m\u001b[0m\u001b[0m\n",
      "\u001b[0;31mTypeError\u001b[0m: 'NoneType' object is not iterable"
     ]
    }
   ],
   "source": [
    "fg.get_fooof(3, True)"
   ]
  },
  {
   "cell_type": "code",
   "execution_count": 61,
   "metadata": {},
   "outputs": [
    {
     "name": "stdout",
     "output_type": "stream",
     "text": [
      "1.0149228771744678\n",
      "1.0041196750743568\n",
      "1.0133547763442272\n",
      "1.0142474375693842\n",
      "1.013424755088314\n",
      "1.0127124781804384\n",
      "1.0062302200805464\n",
      "1.0055397487838047\n",
      "1.0137332818991325\n",
      "1.0128643799437165\n",
      "1.0055103658389524\n",
      "1.0131174049425236\n",
      "1.0042494156156148\n",
      "1.0039159285207981\n",
      "1.0037624800358427\n",
      "1.0150197374031937\n",
      "1.0056470854405004\n",
      "1.004103441850986\n",
      "1.0125977621023243\n",
      "1.0125187434224825\n",
      "1.0142486685003782\n",
      "1.0061225049801612\n",
      "1.0057297227207584\n",
      "1.0055918911478339\n",
      "1.005185252471024\n"
     ]
    }
   ],
   "source": [
    "to_check = []\n",
    "for ind, res in enumerate(fg):\n",
    "    print(res.r2 + res.error)\n",
    "    #if res.error > 0.015:\n",
    "        #print(ind)\n",
    "        #to_check.append(fg.get_fooof(ind))"
   ]
  },
  {
   "cell_type": "code",
   "execution_count": 23,
   "metadata": {},
   "outputs": [
    {
     "data": {
      "image/png": "[encoded data removed]",
      "text/plain": [
       "<matplotlib.figure.Figure at 0x10d474978>"
      ]
     },
     "metadata": {},
     "output_type": "display_data"
    }
   ],
   "source": [
    "fg.plot()"
   ]
  },
  {
   "cell_type": "code",
   "execution_count": 18,
   "metadata": {
    "collapsed": true
   },
   "outputs": [],
   "source": [
    "for fm in to_check:\n",
    "    fm.plot()\n",
    "    fm.create_report()"
   ]
  },
  {
   "cell_type": "code",
   "execution_count": 19,
   "metadata": {},
   "outputs": [
    {
     "data": {
      "text/plain": [
       "[]"
      ]
     },
     "execution_count": 19,
     "metadata": {},
     "output_type": "execute_result"
    }
   ],
   "source": [
    "to_check"
   ]
  },
  {
   "cell_type": "code",
   "execution_count": null,
   "metadata": {
    "collapsed": true
   },
   "outputs": [],
   "source": []
  }
 ],
 "metadata": {
  "kernelspec": {
   "display_name": "Python 3",
   "language": "python",
   "name": "python3"
  },
  "language_info": {
   "codemirror_mode": {
    "name": "ipython",
    "version": 3
   },
   "file_extension": ".py",
   "mimetype": "text/x-python",
   "name": "python",
   "nbconvert_exporter": "python",
   "pygments_lexer": "ipython3",
   "version": "3.6.1"
  }
 },
 "nbformat": 4,
 "nbformat_minor": 2
}
