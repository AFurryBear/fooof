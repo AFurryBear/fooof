{
 "cells": [
  {
   "cell_type": "markdown",
   "metadata": {},
   "source": [
    "# FOOOF - Model Description\n",
    "\n",
    "<div class=\"alert alert-success\">\n",
    "This notebook provides a more theoretical / mathematical description of the model, as well as a detailed description of the parameters.\n",
    "</div>\n",
    "\n",
    "### Introduction\n",
    "\n",
    "In FOOOF, an electrophysiological PSD is fit as a combination of the background process (the arythmic, background 1/f), upon which there may be oscillations - frequency regions in which there are 'bumps', with power over and above this background process.\n",
    "\n",
    "This formulation roughly translates to fitting the PSD as:\n",
    "\n",
    "$$psd = BG + \\sum_{n=0}^{N} G_n$$\n",
    "\n",
    "Where $BG$ is the 'background fit' and each $G_n$ is a gaussian fit to a putative oscillation, for $N$ total oscillations extracted from the PSD.\n",
    "\n",
    "#### Background\n",
    "\n",
    "The background fit is a log-lorentzian, fit on the semilog PSD (linear frequencies and log10 power values). \n",
    "\n",
    "The log-lorentzian is of the form:\n",
    "\n",
    "$$BG = 10^a * \\frac{1}{(b + f^\\chi)}$$\n",
    "\n",
    "Or, equivalently:\n",
    "\n",
    "$$BG = a - \\log(b + f^\\chi)$$\n",
    "\n",
    "In this formulation, the 3 parameters $a$, $b$, and $\\chi$ define the background, as:\n",
    "- $a$ is the 'offset'\n",
    "- $b$ relates to the 'knee'\n",
    "- $\\chi$ is the 'slope'\n",
    "\n",
    "#### Oscillations\n",
    "\n",
    "Regions of power over above this background activity, as defined above, are considered to be putative oscillations, and fit in the model by a gaussian. \n",
    "\n",
    "For each gaussian, $n$, with the form:\n",
    "\n",
    "$$G_n = amp * exp (\\frac{- (x - ctr)^2}{2 * wdt^2})$$\n",
    "\n",
    "The oscillation is defined in terms of the $amp$, $ctr$ and $wdt$, where:\n",
    "- $amp$ is the amplitude of the oscillation, over and above the background\n",
    "- $ctr$ is the center frequency of the oscillation\n",
    "- $wdt$ is the width of the center frequency\n",
    "\n",
    "The full PSD fit is therefore the combination of the background fit, and $N$ 'oscillatory regions', where each $n$ is a gaussian process found gaussian processes.\n",
    "\n",
    "Full method details available in the paper: [LINK WHEN AVAILABLE]"
   ]
  },
  {
   "cell_type": "markdown",
   "metadata": {},
   "source": [
    "## Algorithmic Description\n",
    "\n",
    "PICTURE!\n",
    "\n",
    "Briefly, the FOOOF model proceeds as such:\n",
    "- An intial background fit is taken across the PSD\n",
    "- This background fit is subtracted from the PSD, creating a flattened spectrum\n",
    "- Putative oscillations are iteratively found in this flattened spectrum\n",
    "- A full oscillation fit is created of all oscillation candidates found\n",
    "- The oscillation fit is subtracted from the original PSD, creating an oscillation-removed PSD\n",
    "- A final background fit is taken of the oscillation-removed PSD\n",
    "\n",
    "<div class=\"alert alert-info\">\n",
    "To step through the algorithm, with the code, go [here](Internals.ipynb).\n",
    "</div>"
   ]
  },
  {
   "cell_type": "markdown",
   "metadata": {},
   "source": [
    "FOOOF MODEL FIT PICTURE (plot)"
   ]
  },
  {
   "cell_type": "markdown",
   "metadata": {},
   "source": [
    "## FOOOF Parameters\n",
    "\n",
    "There are a number of parameters that control the FOOOF fitting algorithm. Parameters that are exposed to be set by the user are explained in detail below. \n",
    "\n",
    "### Background Fitting Approach\n",
    "\n",
    "#### bg_use_knee (boolean)\n",
    "\n",
    "Whether to fit a 'knee' parameter in the background fit procedure. \n",
    "\n",
    "Default: False\n",
    "\n",
    "### Controlling Oscillation Fits\n",
    "\n",
    "#### bandwidth_limits (Hz)\n",
    "\n",
    "Enforced limits on the bandwidths of extracted oscillations, given as a list of [minimum bandwidth, maximum bandwidth]. We recommend bandwidths at last twice the frequency resolution of the power spectrum.\n",
    "\n",
    "Default: [0.5, 12]\n",
    "\n",
    "### Oscillation Search Stopping Criteria\n",
    "\n",
    "An iterative procedures searches for candidate oscillations in the flattened spectrum. Candidate oscillations are extracted in order of decreasing amplitude, and until some stopping criterion is met. \n",
    "\n",
    "#### max_n_oscs (int)\n",
    "\n",
    "The maximum number of oscillations that can be extracted from a given PSD. FOOOF will halt searching for new oscillations when this number is reached. Note that FOOOF extracts oscillations iteratively by amplitude (over and above the background), and so this approach should extract (up to) the _n_ largest oscillations. \n",
    "\n",
    "Default: infinite\n",
    "\n",
    "#### amp_std_thresh (in units of standard deviation)\n",
    "\n",
    "The threshold, in terms of standard deviation of the background removed power spectrum, above which a data point must pass to be considered a candidate oscillation. Once a candidate oscillation drops below this threshold, the oscillation search is halted (without including the most recent candidate). \n",
    "\n",
    "Default: 2.0\n",
    "\n",
    "#### min_amp (in units of the psd)\n",
    "\n",
    "The minimum amplitude, above the background fit, that an oscillation must have to be extracted in the initial fit stage. Once a candidate oscillation drops below this threshold, the oscillation search is halted (without including the most recent candidate). Note that because this constraint is enforced during oscillation search, and prior to final oscillation fit, returned oscillations are not guaranteed to surpass this value in amplitude.\n",
    "\n",
    "Default: 0\n",
    "\n",
    "Note: there are two different amplitude-related halting conditions for the oscillation search. By default, the relative (standard-deviation based) threshold is defined, whereas the absolute threshold is set to zero (this is largely because there is no general way to set this value without knowing the scale of the data). If both are defined, both are used and the oscillation search will halt when a candidate oscillations fails to pass either the absolute, or relative threshold. "
   ]
  },
  {
   "cell_type": "markdown",
   "metadata": {},
   "source": [
    "<div class=\"alert alert-info\">\n",
    "To continue with the tutorial, to a hands-on introduction to the codebase, go [here](02-FOOOF.ipynb).\n",
    "</div>"
   ]
  }
 ],
 "metadata": {
  "kernelspec": {
   "display_name": "Python [conda env:tf]",
   "language": "python",
   "name": "conda-env-tf-py"
  },
  "language_info": {
   "codemirror_mode": {
    "name": "ipython",
    "version": 3
   },
   "file_extension": ".py",
   "mimetype": "text/x-python",
   "name": "python",
   "nbconvert_exporter": "python",
   "pygments_lexer": "ipython3",
   "version": "3.6.3"
  }
 },
 "nbformat": 4,
 "nbformat_minor": 2
}
