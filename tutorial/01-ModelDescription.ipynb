{
 "cells": [
  {
   "cell_type": "markdown",
   "metadata": {},
   "source": [
    "# FOOOF - Model Description\n",
    "\n",
    "In FOOOF, an electrophysiological PSD is fit as a combination of the background process (the arythmic, background 1/f), upon which there may be oscillations - frequency regions in which there are 'bumps', with power over and above this background process.\n",
    "\n",
    "This formulation roughly translates to fitting the PSD as:\n",
    "\n",
    "$$psd = BG + \\sum_{n=0}^{N} G_n$$\n",
    "\n",
    "Where $BG$ is the 'background fit' and each $G_n$ is a gaussian fit to a putative oscillation, for $N$ total oscillations extracted from the PSD.\n",
    "\n",
    "#### Background\n",
    "\n",
    "The background fit is a log-lorentzian, fit on the semilog PSD (linear frequencies and log10 power values). \n",
    "\n",
    "The log-lorentzian is of the form:\n",
    "\n",
    "$$BG = 10^a * \\frac{1}{(b + f^\\chi)}$$\n",
    "\n",
    "Or, equivalently:\n",
    "\n",
    "$$BG = a - \\log(b + f^\\chi)$$\n",
    "\n",
    "In this formulation, the 3 parameters $a$, $b$, and $\\chi$ define the background, as:\n",
    "- $a$ is the 'offset'\n",
    "- $b$ relates to the 'knee'\n",
    "- $\\chi$ is the 'slope'\n",
    "\n",
    "#### Oscillations\n",
    "\n",
    "Regions of power over above this background activity, as defined above, are considered to be putative oscillations, and fit in the model by a gaussian. \n",
    "\n",
    "For each gaussian, $n$, with the form:\n",
    "\n",
    "$$G_n = amp * exp\\Bigl(\\frac{- (x - ctr)^2}{2 * wdt^2}\\Bigl)$$\n",
    "\n",
    "The oscillation is defined in terms of the $amp$, $ctr$ and $wdt$, where:\n",
    "- $amp$ is the amplitude of the oscillation, over and above the background\n",
    "- $ctr$ is the center frequency of the oscillation\n",
    "- $wdt$ is the width of the center frequency\n",
    "\n",
    "The full PSD fit is therefore the combination of the background fit, and $N$ 'oscillatory regions', where each $n$ is a gaussian process found gaussian processes.\n",
    "\n",
    "Full method details available in the paper: [LINK WHEN AVAILABLE]"
   ]
  },
  {
   "cell_type": "code",
   "execution_count": null,
   "metadata": {
    "collapsed": true
   },
   "outputs": [],
   "source": []
  },
  {
   "cell_type": "markdown",
   "metadata": {},
   "source": [
    "## FOOOF Settings\n",
    "\n",
    "With default settings, FOOOF is minimally constrained. It defaults as such since there are not universal settings that work across all different dataset modalities. Appropriate settings also vary with PSD quality (noise, or effectively, the smoothness of the PSD), and frequency ranges. \n",
    "\n",
    "For any given dataset, FOOOF will likely need some tuning of parameters for optimal performance. \n",
    "\n",
    "To do so, we suggest using a combination of the following considerations:\n",
    "- A priori constraints, given your data, such as the number of oscillations you expect to extract\n",
    "- Qualitative analysis, guided by examing the the plotted model fit results, as compared to input data\n",
    "- Quantitative analysis, considering the model fit and error (however, see note at the bottom regarding interpreting model fit error)\n",
    "\n",
    "Tuning FOOOF is an imperfect art, and should be done carefully, as assumptions built into the settings chosen will impact the model results. For this reason, FOOOF settings should not be changed between PSDs (across channels, trials, or subjects), if they are to be meaningfully compared. We recommend \n",
    "\n",
    "### Options\n",
    "\n",
    "At initialization, you have the following settings available:\n",
    "\n",
    "#### bandwidth_limits (Hz)\n",
    "\n",
    "Enforced limits on the bandwidths of extracted oscillations, given as a list of [minimum bandwidth, maximum bandwidth]. We recommend bandwidths at last twice the frequency resolution of the power spectrum.\n",
    "\n",
    "Default: [0.5, 12]\n",
    "\n",
    "#### max_n_oscs (int)\n",
    "\n",
    "The maximum number of oscillations that can be extracted from a given PSD. FOOOF will halt searching for new oscillations when this number is reached. Note that FOOOF extracts oscillations iteratively by amplitude (over and above the background), and so this approach should extract the _n_ largest oscillations. \n",
    "\n",
    "Default: infinite\n",
    "\n",
    "#### amp_std_thresh (in units of standard deviation)\n",
    "\n",
    "The threshold, in terms of standard deviation of the background removed power spectrum, above which a data point must pass to be considered a candidate oscillation. \n",
    "\n",
    "Default: 2.0\n",
    "\n",
    "#### min_amp (in units of the psd)\n",
    "\n",
    "The minimum amplitude, above the background fit, that an oscillation must have to be extracted in the initial fit stage. This setting can be useful for datasets in which their may be flat PSDs, since in this case the standard deviation may be very low, leading to overfitting of small bumps as oscillations. Note that because this constraint is enforced during oscillation search, returned oscillations are not guaranteed to surpass this value in amplitude.\n",
    "\n",
    "Default: 0\n",
    "\n",
    "#### bg_use_knee (boolean)\n",
    "\n",
    "Whether to fit a 'knee' parameter in the log-lorentzian background fit. \n",
    "\n",
    "Default: False"
   ]
  },
  {
   "cell_type": "markdown",
   "metadata": {},
   "source": [
    "### A note on amplitudes\n",
    "\n",
    "Note that there are two different parameters controlling FOOOF halting its search for oscillations based on amplitude. By default, there is no minimum absolute amplitude, but FOOOF will halt when new potential oscillations fail to pass the threshold, defined in units of standard deviation over and above the background. If both are defined, FOOOF will halt finding new oscillations when candidate fails to pass either the minimum amplitude, or the threshold. \n",
    "\n",
    "\n",
    "### Updating Settings\n",
    "\n",
    "If you wish to change these settings, re-initialize the FOOOF object with new settings. Simply resetting the relevant attribute may not appropriately propragate the value, and may fail (either by erroring out, or not applying the settings properly during fit and returning erroneous results). "
   ]
  },
  {
   "cell_type": "code",
   "execution_count": null,
   "metadata": {
    "collapsed": true
   },
   "outputs": [],
   "source": []
  }
 ],
 "metadata": {
  "kernelspec": {
   "display_name": "Python 3",
   "language": "python",
   "name": "python3"
  },
  "language_info": {
   "codemirror_mode": {
    "name": "ipython",
    "version": 3
   },
   "file_extension": ".py",
   "mimetype": "text/x-python",
   "name": "python",
   "nbconvert_exporter": "python",
   "pygments_lexer": "ipython3",
   "version": "3.6.1"
  }
 },
 "nbformat": 4,
 "nbformat_minor": 2
}
