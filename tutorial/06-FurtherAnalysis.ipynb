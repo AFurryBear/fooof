{
 "cells": [
  {
   "cell_type": "markdown",
   "metadata": {},
   "source": [
    "# FOOOF: Results Analysis"
   ]
  },
  {
   "cell_type": "markdown",
   "metadata": {},
   "source": [
    "<div class=\"alert alert-success\">\n",
    "This tutorial explores some basic examples analyzing the results from fitting FOOOF models.\n",
    "</div>\n",
    "\n",
    "<div class=\"alert alert-info\">\n",
    "To go back to code-based examples of using FOOOF, go [here](02-FOOOF.ipynb).\n",
    "</div>\n",
    "\n",
    "## Exploring FOOOF Analyses\n",
    "\n",
    "FOOOF is really a way to extract features of interest from your data. \n",
    "\n",
    "These features can then be examined across or between groups of interest, or perhaps fed into further analysis. \n",
    "\n",
    "Largely, it is up to you what to do after running FOOOF, and depends on your questions of interest.\n",
    "\n",
    "Here, we briefly introduce some analysis utilities that are packaged with FOOOF, and explore some simple analyses that can be done with FOOOF outputs. "
   ]
  },
  {
   "cell_type": "code",
   "execution_count": 1,
   "metadata": {
    "collapsed": true
   },
   "outputs": [],
   "source": [
    "# General imports\n",
    "import numpy as np\n",
    "\n",
    "# Import FOOOF objects & synth utilities\n",
    "from fooof import FOOOF, FOOOFGroup\n",
    "from fooof.synth import gen_group_power_spectra, param_sampler\n",
    "\n",
    "# FOOOF comes with some basic analysis function to work with FOOOF outputs\n",
    "from fooof.analysis import get_band_peak, get_band_peak_group"
   ]
  },
  {
   "cell_type": "code",
   "execution_count": 2,
   "metadata": {},
   "outputs": [],
   "source": [
    "# Reload some data and fit a FOOOF model to use\n",
    "freqs = np.load('dat/freqs_lfp.npy')\n",
    "spectrum = np.load('dat/spectrum_lfp.npy')\n",
    "fm = FOOOF(peak_width_limits=[2, 8])\n",
    "fm.fit(freqs, spectrum, [3, 30])"
   ]
  },
  {
   "cell_type": "code",
   "execution_count": 3,
   "metadata": {},
   "outputs": [],
   "source": [
    "# Generate some synthetic power spectra and fit a FOOOFGroup to use\n",
    "freqs, spectra, _ = gen_group_power_spectra(n_spectra=10,\n",
    "                                            freq_range=[3, 40],\n",
    "                                            background_params=param_sampler([[20, 2], [35, 1.5]]),\n",
    "                                            gauss_params=param_sampler([[], [10, 0.5, 2]]))\n",
    "fg = FOOOFGroup(peak_width_limits=[1, 8], min_peak_amplitude=0.05, max_n_peaks=6, verbose=False)\n",
    "fg.fit(freqs, spectra)"
   ]
  },
  {
   "cell_type": "markdown",
   "metadata": {},
   "source": [
    "### FOOOF Analysis utilities\n",
    "\n",
    "FOOOF is packaged with minimal analysis utility functions. \n",
    "\n",
    "The plan is for the FOOOF module to stay this way, as supporting further analysis of FOOOF-derived results is largely outside the scope of the current module.\n",
    "\n",
    "Here we only directly include and demonstrate utility functions covering very general use cases.\n",
    "\n",
    "In particular, we include some utilities that are useful for parsing peak results, and extracting peaks from frequency ranges of interest. "
   ]
  },
  {
   "cell_type": "code",
   "execution_count": 4,
   "metadata": {
    "collapsed": true
   },
   "outputs": [],
   "source": [
    "# Check out the documentation for the peak analyis helper function\n",
    "get_band_peak?"
   ]
  },
  {
   "cell_type": "markdown",
   "metadata": {},
   "source": [
    "### Analyzing Band-Specific Oscillations"
   ]
  },
  {
   "cell_type": "code",
   "execution_count": 5,
   "metadata": {
    "collapsed": true
   },
   "outputs": [],
   "source": [
    "# Set up indexes for accessing data, for convenience\n",
    "cf_ind, am_ind, bw_ind = 0, 1, 2"
   ]
  },
  {
   "cell_type": "code",
   "execution_count": 6,
   "metadata": {
    "collapsed": true
   },
   "outputs": [],
   "source": [
    "# Define frequency bands of interest\n",
    "theta_band = [4, 8]\n",
    "alpha_band = [8, 12]\n",
    "beta_band = [15, 30]"
   ]
  },
  {
   "cell_type": "code",
   "execution_count": 7,
   "metadata": {},
   "outputs": [
    {
     "data": {
      "text/plain": [
       "array([16.08799633,  0.31497775,  2.91456728])"
      ]
     },
     "execution_count": 7,
     "metadata": {},
     "output_type": "execute_result"
    }
   ],
   "source": [
    "# Extract any beta band oscillations from the FOOOF model\n",
    "get_band_peak(fm.peak_params_, beta_band)"
   ]
  },
  {
   "cell_type": "markdown",
   "metadata": {},
   "source": [
    "The 'get_band_peak' function will extract peaks within a specified band from the results of a FOOOF fit. \n",
    "\n",
    "You can optionally specify whether to return all oscillations within that band, or a singular result, which returns the highest power peak (if there are multiple). "
   ]
  },
  {
   "cell_type": "code",
   "execution_count": 8,
   "metadata": {
    "collapsed": true
   },
   "outputs": [],
   "source": [
    "# Get all alpha oscillations from a FOOOFGroup object\n",
    "alphas = get_band_peak_group(fg.get_all_data('peak_params'), alpha_band, len(fg))"
   ]
  },
  {
   "cell_type": "code",
   "execution_count": 9,
   "metadata": {},
   "outputs": [
    {
     "data": {
      "text/plain": [
       "array([[        nan,         nan,         nan],\n",
       "       [10.02967719,  0.48536385,  3.80421559],\n",
       "       [        nan,         nan,         nan],\n",
       "       [        nan,         nan,         nan],\n",
       "       [10.04113301,  0.49012133,  3.78016585]])"
      ]
     },
     "execution_count": 9,
     "metadata": {},
     "output_type": "execute_result"
    }
   ],
   "source": [
    "# Check out some of the alpha data\n",
    "alphas[0:5, :]"
   ]
  },
  {
   "cell_type": "markdown",
   "metadata": {},
   "source": [
    "#### get_band_peak_group\n",
    "\n",
    "Note that the design of 'get_band_peak_group' is such that it will retain information regarding which oscillation came from with model fit. \n",
    "\n",
    "To do so, it's output is organized such that each row corresponds to a specific model fit, such that the matrix returned is size [n_fits, 3].\n",
    "\n",
    "For this to work, at most 1 peak is extracted for each model fit within the specified band. \n",
    "\n",
    "If more than 1 peak are found within the band, the peak with the highest power is extracted. If no peaks are found, that row is filled with 'nan'. "
   ]
  },
  {
   "cell_type": "code",
   "execution_count": 10,
   "metadata": {},
   "outputs": [
    {
     "name": "stdout",
     "output_type": "stream",
     "text": [
      "Alpha CF :  10.032316994652476\n",
      "Alpha Amp:  0.48704968437097024\n",
      "Alpha BW :  3.793087577369318\n"
     ]
    }
   ],
   "source": [
    "# Check descriptive statistics of oscillation data\n",
    "print('Alpha CF : ', np.nanmean(alphas[:, cf_ind]))\n",
    "print('Alpha Amp: ', np.nanmean(alphas[:, am_ind]))\n",
    "print('Alpha BW : ', np.nanmean(alphas[:, bw_ind]))"
   ]
  },
  {
   "cell_type": "markdown",
   "metadata": {},
   "source": [
    "#### A Note on Frequency Ranges\n",
    "\n",
    "A benefit of using FOOOF to model power spectra is that you do not have to define a priori frequency ranges from which to extract oscillations. \n",
    "\n",
    "Nevertheless, it may still be useful to group extracted peaks into 'bands' of interest, which is why the aforementioned functions are offered. \n",
    "\n",
    "Since this frequency-range selection can be done after model fitting, we do recommend checking the model results, for example by checking a histogram of the center frequencies extracted across a group, in order to ensure the frequency ranges you choose reflect the characteristics of the data under studty. "
   ]
  },
  {
   "cell_type": "markdown",
   "metadata": {},
   "source": [
    "### Analyzing the Aperiodic ('background') Signal"
   ]
  },
  {
   "cell_type": "code",
   "execution_count": 11,
   "metadata": {
    "collapsed": true
   },
   "outputs": [],
   "source": [
    "# Extract slope data from group results\n",
    "sls = fg.get_all_data('background_params', 'slope')"
   ]
  },
  {
   "cell_type": "code",
   "execution_count": 12,
   "metadata": {},
   "outputs": [
    {
     "data": {
      "text/plain": [
       "array([1.49974605, 2.02193707, 1.50243998, 1.50058702, 2.01839346,\n",
       "       2.02086515, 1.49905775, 1.50216495, 1.52005248, 1.5156712 ])"
      ]
     },
     "execution_count": 12,
     "metadata": {},
     "output_type": "execute_result"
    }
   ],
   "source": [
    "# Check out slope data\n",
    "sls"
   ]
  },
  {
   "cell_type": "markdown",
   "metadata": {},
   "source": [
    "### Comparing Across PSDs\n",
    "\n",
    "Both of the examples above preserve information about which PSD particular features come from. If the PSDs come from across electrodes, channels or source reconstructed vertices, for example, extracting data in this way can be used to examine topographical relationships within and between these features. \n",
    "\n",
    "If your data comes from M/EEG, [MNE](https://github.com/mne-tools/mne-python) has visualization tools that you can use to, with a channel file and a vector of FOOOF output data, visualize FOOOF results across the scalp and/or cortex."
   ]
  },
  {
   "cell_type": "markdown",
   "metadata": {},
   "source": [
    "### Example FOOOF-related analyses\n",
    "\n",
    "- Characterizing oscillations & aperiodic properties, and analyzing spatial topographies, across demographics, modalities, and tasks\n",
    "- Comparing oscillations within and between subjects across different tasks of interest\n",
    "- Predicting disease state based on FOOOF derived oscillation & aperiodic features\n",
    "- Using FOOOF on a trial by trial manner to decode task properties, and behavioural states"
   ]
  },
  {
   "cell_type": "markdown",
   "metadata": {},
   "source": [
    "<hr>\n",
    "<div class=\"alert alert-success\">\n",
    "This is the end of the FOOOF tutorial materials!\n",
    "</div>\n",
    "\n",
    "<div class=\"alert alert-info\">\n",
    "If you are having any troubles, please submit an issue on Github [here](https://github.com/voytekresearch/fooof), and/or get in contact with us at voytekresearch@gmail.com.\n",
    "</div>"
   ]
  }
 ],
 "metadata": {
  "kernelspec": {
   "display_name": "Python [default]",
   "language": "python",
   "name": "python3"
  },
  "language_info": {
   "codemirror_mode": {
    "name": "ipython",
    "version": 3
   },
   "file_extension": ".py",
   "mimetype": "text/x-python",
   "name": "python",
   "nbconvert_exporter": "python",
   "pygments_lexer": "ipython3",
   "version": "3.6.6"
  }
 },
 "nbformat": 4,
 "nbformat_minor": 2
}
