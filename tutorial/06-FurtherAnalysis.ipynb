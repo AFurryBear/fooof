{
 "cells": [
  {
   "cell_type": "markdown",
   "metadata": {},
   "source": [
    "# FOOOF: Results Analysis"
   ]
  },
  {
   "cell_type": "markdown",
   "metadata": {},
   "source": [
    "<div class=\"alert alert-success\">\n",
    "This tutorial explores some basic examples of analyzing the results from fitting FOOOF PSD models.\n",
    "</div>\n",
    "\n",
    "<div class=\"alert alert-info\">\n",
    "To go back to code-based examples of using FOOOF, go [here](02-FOOOF.ipynb).\n",
    "</div>\n",
    "\n",
    "## Exploring FOOOF Analyses\n",
    "\n",
    "FOOOF is really a way to extract features of interest from your data, features that can then be examined across or between groups of interest, or perhaps fed into further analysis. Largely, it is up to you what to do after running FOOOF. Here, we briefly introduce some analysis utilities that are packaged with FOOOF, and explore some simple analyses that can be done with FOOOF outputs. "
   ]
  },
  {
   "cell_type": "code",
   "execution_count": 1,
   "metadata": {
    "collapsed": true
   },
   "outputs": [],
   "source": [
    "# Import FOOOFGroup\n",
    "from fooof import FOOOFGroup\n",
    "\n",
    "# FOOOF comes with some basic analysis function to work FOOOF outputs\n",
    "from fooof.analysis import *"
   ]
  },
  {
   "cell_type": "code",
   "execution_count": 2,
   "metadata": {
    "collapsed": true
   },
   "outputs": [],
   "source": [
    "# Initialize a FOOOFGroup, and load data saved from the previous tutorials\n",
    "fg = FOOOFGroup()\n",
    "fg.load()"
   ]
  },
  {
   "cell_type": "markdown",
   "metadata": {},
   "source": [
    "### FOOOF Analysis Utilities\n",
    "\n",
    "Note: currently FOOOF is packaged with minimal analysis utility functions. FOOOF is planned to stay this way, as supporting further analysis of FOOOF-derived results is largely outside the scope of the current module, and so we only directly include utility functions covering very general uses."
   ]
  },
  {
   "cell_type": "code",
   "execution_count": 3,
   "metadata": {
    "collapsed": true
   },
   "outputs": [],
   "source": [
    "# Check out the docs for peak analyis helper function\n",
    "get_band_peak?"
   ]
  },
  {
   "cell_type": "markdown",
   "metadata": {},
   "source": [
    "### Analyzing Band-Specific Oscillations"
   ]
  },
  {
   "cell_type": "code",
   "execution_count": 4,
   "metadata": {
    "collapsed": true
   },
   "outputs": [],
   "source": [
    "# Set up indexes for accessing data, for convenience\n",
    "cf_ind, am_ind, bw_ind = 0, 1, 2"
   ]
  },
  {
   "cell_type": "code",
   "execution_count": 5,
   "metadata": {
    "collapsed": true
   },
   "outputs": [],
   "source": [
    "# Define alpha band\n",
    "alpha_band = [8, 12]\n",
    "\n",
    "# Initialize an array to store alpha band oscillations\n",
    "alphas = np.empty(shape=[len(fg.group_results), 3])\n",
    "\n",
    "# Extract all alpha oscillations from FOOOFGroup results\n",
    "#  Note that this preserves information about which PSD each oscillation comes from\n",
    "for ind, res in enumerate(fg):\n",
    "    alphas[ind, :] = get_band_peak(res.peak_params, alpha_band, True)"
   ]
  },
  {
   "cell_type": "code",
   "execution_count": 6,
   "metadata": {},
   "outputs": [
    {
     "data": {
      "text/plain": [
       "array([[ 10.09964663,   0.47133132,   3.60705373],\n",
       "       [ 10.08879109,   0.47731098,   3.68490876],\n",
       "       [         nan,          nan,          nan],\n",
       "       [ 10.09665833,   0.47097969,   3.6633977 ],\n",
       "       [ 10.02854683,   0.48826778,   3.81333837]])"
      ]
     },
     "execution_count": 6,
     "metadata": {},
     "output_type": "execute_result"
    }
   ],
   "source": [
    "# Check out some of the alpha data\n",
    "alphas[0:5, :]"
   ]
  },
  {
   "cell_type": "code",
   "execution_count": 7,
   "metadata": {},
   "outputs": [
    {
     "name": "stdout",
     "output_type": "stream",
     "text": [
      "Alpha CF :  10.0606832091\n",
      "Alpha Amp:  0.482675280189\n",
      "Alpha BW :  3.73077799688\n"
     ]
    }
   ],
   "source": [
    "# Check descriptive statistics of oscillation data\n",
    "print('Alpha CF : ', np.nanmean(alphas[:, cf_ind]))\n",
    "print('Alpha Amp: ', np.nanmean(alphas[:, am_ind]))\n",
    "print('Alpha BW : ', np.nanmean(alphas[:, bw_ind]))"
   ]
  },
  {
   "cell_type": "markdown",
   "metadata": {},
   "source": [
    "### Analyzing Background Activity"
   ]
  },
  {
   "cell_type": "code",
   "execution_count": 8,
   "metadata": {
    "collapsed": true
   },
   "outputs": [],
   "source": [
    "# Extract slope data from group results\n",
    "sls = fg.get_all_data('background_params', 1)"
   ]
  },
  {
   "cell_type": "code",
   "execution_count": 9,
   "metadata": {},
   "outputs": [
    {
     "data": {
      "text/plain": [
       "array([ 2.03219939,  2.5261983 ,  1.9998798 ,  2.53002688,  1.51648434,\n",
       "        1.50259231,  2.52335528,  2.01688269,  1.51448427,  2.52317579])"
      ]
     },
     "execution_count": 9,
     "metadata": {},
     "output_type": "execute_result"
    }
   ],
   "source": [
    "# Check out slope data\n",
    "sls"
   ]
  },
  {
   "cell_type": "markdown",
   "metadata": {},
   "source": [
    "### Comparing Across PSDs\n",
    "\n",
    "Both of the examples above preserve information about which PSD particular features come from. If the PSDs come from across electrodes, channels or source reconstructed vertices, for example, extracting data in this way can be used to examine topographical relationships within and between these features. \n",
    "\n",
    "If your data comes from M/EEG, [MNE](https://github.com/mne-tools/mne-python) has visualization tools that you can use to, with a channel file, and a vector of FOOOF output data, visualzie FOOOF results across the scalp and/or cortex."
   ]
  },
  {
   "cell_type": "markdown",
   "metadata": {},
   "source": [
    "### Example FOOOF-related analyses\n",
    "\n",
    "- Characterizing oscillation & 1/f, and analyzing spatial topographies, across demographics, modalities, and tasks\n",
    "- Comparing oscillations within and between subjects across different tasks of interest\n",
    "- Predicting disease state based on FOOOF derived oscillation & 1/f features\n",
    "- Using FOOOF on a trial by trial manner to decode task properties, and behavioural states"
   ]
  },
  {
   "cell_type": "markdown",
   "metadata": {},
   "source": [
    "<hr>\n",
    "<div class=\"alert alert-success\">\n",
    "This is the end of the FOOOF tutorial materials!\n",
    "</div>\n",
    "\n",
    "<div class=\"alert alert-info\">\n",
    "If you are having any troubles, please submit an issue on Github [here](https://github.com/voytekresearch/fooof), and/or get in contact with us at voytekresearch@gmail.com.\n",
    "</div>"
   ]
  }
 ],
 "metadata": {
  "kernelspec": {
   "display_name": "Python [conda env:tf]",
   "language": "python",
   "name": "conda-env-tf-py"
  },
  "language_info": {
   "codemirror_mode": {
    "name": "ipython",
    "version": 3
   },
   "file_extension": ".py",
   "mimetype": "text/x-python",
   "name": "python",
   "nbconvert_exporter": "python",
   "pygments_lexer": "ipython3",
   "version": "3.6.3"
  }
 },
 "nbformat": 4,
 "nbformat_minor": 2
}
