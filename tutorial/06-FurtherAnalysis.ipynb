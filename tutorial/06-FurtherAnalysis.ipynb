{
 "cells": [
  {
   "cell_type": "markdown",
   "metadata": {},
   "source": [
    "# FOOOF: Results Analysis\n",
    "\n",
    "<div class=\"alert alert-success\">\n",
    "WORDS\n",
    "</div>\n",
    "\n",
    "<div class=\"alert alert-info\">\n",
    "WORDS, go [here](02-FOOOF.ipynb).\n",
    "</div>\n",
    "\n",
    "## Exploring FOOOF Analyses\n",
    "\n",
    "FOOOF is really a way to extract features of interest from your data, features that can then be examined across or between groups of interest, or perhaps fed into further analysis. Largely, it is up \n",
    "\n"
   ]
  },
  {
   "cell_type": "code",
   "execution_count": 36,
   "metadata": {
    "collapsed": true
   },
   "outputs": [],
   "source": [
    "#\n",
    "from fooof import FOOOFGroup\n",
    "\n",
    "from fooof.analysis import *"
   ]
  },
  {
   "cell_type": "code",
   "execution_count": 37,
   "metadata": {
    "collapsed": true
   },
   "outputs": [],
   "source": [
    "# Initialize a FOOOFGroup, and load data saved from the previous tutorials\n",
    "fg = FOOOFGroup()\n",
    "fg.load()"
   ]
  },
  {
   "cell_type": "markdown",
   "metadata": {},
   "source": [
    "### \n",
    "\n",
    "Note: currently FOOOF is packaged with "
   ]
  },
  {
   "cell_type": "code",
   "execution_count": 7,
   "metadata": {
    "collapsed": true
   },
   "outputs": [],
   "source": [
    "get_band_osc?"
   ]
  },
  {
   "cell_type": "markdown",
   "metadata": {},
   "source": [
    "### Comparing Band-Specific Oscillations"
   ]
  },
  {
   "cell_type": "code",
   "execution_count": 30,
   "metadata": {
    "collapsed": true
   },
   "outputs": [],
   "source": [
    "# \n",
    "cf_ind, am_ind, bw_ind = 0, 1, 2"
   ]
  },
  {
   "cell_type": "code",
   "execution_count": 31,
   "metadata": {
    "collapsed": true
   },
   "outputs": [],
   "source": [
    "# Define alpha band\n",
    "alpha_band = [8, 12]\n",
    "\n",
    "# Initialize an array to store alpha band oscillations\n",
    "alphas = np.empty(shape=[len(fg.group_results), 3])\n",
    "\n",
    "# Extract all alpha oscillations from FOOOFGroup results\n",
    "#  Note that this preserves information about which PSD each oscillation comes from\n",
    "for ind, res in enumerate(fg):\n",
    "    alphas[ind, :] = get_band_osc(res.oscillation_params, alpha_band, True)"
   ]
  },
  {
   "cell_type": "code",
   "execution_count": 32,
   "metadata": {},
   "outputs": [
    {
     "data": {
      "text/plain": [
       "array([[ 10.10611708,   0.46918634,   3.65812778],\n",
       "       [         nan,          nan,          nan],\n",
       "       [ 10.09061318,   0.47059961,   3.69359129],\n",
       "       [ 10.13109747,   0.47420857,   3.63991202],\n",
       "       [ 10.1197    ,   0.4743191 ,   3.70556922]])"
      ]
     },
     "execution_count": 32,
     "metadata": {},
     "output_type": "execute_result"
    }
   ],
   "source": [
    "# Check out alpha data\n",
    "alphas[0:5, :]"
   ]
  },
  {
   "cell_type": "code",
   "execution_count": 34,
   "metadata": {},
   "outputs": [
    {
     "name": "stdout",
     "output_type": "stream",
     "text": [
      "Alpha CF :  10.0743823233\n",
      "Alpha Amp:  0.480526720672\n",
      "Alpha BW :  3.73173320322\n"
     ]
    }
   ],
   "source": [
    "# \n",
    "print('Alpha CF : ', np.nanmean(alphas[:, cf_ind]))\n",
    "print('Alpha Amp: ', np.nanmean(alphas[:, am_ind]))\n",
    "print('Alpha BW : ', np.nanmean(alphas[:, bw_ind]))"
   ]
  },
  {
   "cell_type": "code",
   "execution_count": null,
   "metadata": {
    "collapsed": true
   },
   "outputs": [],
   "source": []
  }
 ],
 "metadata": {
  "kernelspec": {
   "display_name": "Python 3",
   "language": "python",
   "name": "python3"
  },
  "language_info": {
   "codemirror_mode": {
    "name": "ipython",
    "version": 3
   },
   "file_extension": ".py",
   "mimetype": "text/x-python",
   "name": "python",
   "nbconvert_exporter": "python",
   "pygments_lexer": "ipython3",
   "version": "3.6.1"
  }
 },
 "nbformat": 4,
 "nbformat_minor": 2
}
