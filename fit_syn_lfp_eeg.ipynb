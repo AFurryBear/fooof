{
 "cells": [
  {
   "cell_type": "code",
   "execution_count": 2,
   "metadata": {},
   "outputs": [
    {
     "name": "stdout",
     "output_type": "stream",
     "text": [
      "Once deleted, variables cannot be recovered. Proceed (y/[n])? y\n",
      "The autoreload extension is already loaded. To reload it, use:\n",
      "  %reload_ext autoreload\n"
     ]
    }
   ],
   "source": [
    "%reset\n",
    "%load_ext autoreload\n",
    "%matplotlib inline\n",
    "\n",
    "import numpy as np\n",
    "import matplotlib.pyplot as plt\n",
    "from scipy import signal\n",
    "\n",
    "from fooof import FOOOF\n",
    "\n",
    "from matplotlib import rcParams\n",
    "rcParams['figure.figsize'] = 8, 6\n",
    "rcParams['font.family'] = 'sans-serif'\n",
    "rcParams['font.sans-serif'] = ['Tahoma']\n",
    "\n",
    "\n",
    "def rmse(preds, target):\n",
    "    \"\"\"Calculate root mean squared error.\"\"\"\n",
    "    \n",
    "    return np.sqrt(((preds - target) ** 2).mean())\n",
    "\n",
    "def abs_err_freq(preds, target):\n",
    "    \"\"\"Calculate the absolute error across frequencies.\"\"\"\n",
    "    \n",
    "    return np.abs(preds - target)\n",
    "\n",
    "def data_ecog2(chandat, srate, channel):\n",
    "    # make the PSD\n",
    "    window_size = int(srate*10)\n",
    "    overlap = int(window_size * 0.5)\n",
    "\n",
    "    xf, _, psd_array = signal.spectrogram(chandat, fs=srate, window=('hanning'), nperseg=window_size, noverlap=overlap)\n",
    "    psd_array = np.log10(psd_array)\n",
    "\n",
    "    return psd_array,xf\n",
    "\n",
    "import os\n",
    "my_dir = '/Users/Voytek/fooof/data'"
   ]
  },
  {
   "cell_type": "code",
   "execution_count": 54,
   "metadata": {},
   "outputs": [
    {
     "name": "stdout",
     "output_type": "stream",
     "text": [
      "CPU times: user 22.4 ms, sys: 1.74 ms, total: 24.1 ms\n",
      "Wall time: 23.2 ms\n"
     ]
    }
   ],
   "source": [
    "# # syn\n",
    "# file = 'syn/6.npy'\n",
    "# filename = os.path.join(my_dir, file)\n",
    "# freq_range = [3, 50]\n",
    "# psd_array = np.load(filename)\n",
    "# psd_array = np.log10(psd_array)\n",
    "# range_size = (np.size(range(freq_range[1]))-0)-(np.size(range(freq_range[0]))+0)\n",
    "# freqs = np.linspace(freq_range[0], freq_range[1], range_size)-1\n",
    "# # Fix up PSD\n",
    "# psd_array = np.vstack((psd_array, psd_array))\n",
    "\n",
    "# # real eeg\n",
    "# file = '10.csv'\n",
    "# filename = os.path.join(my_dir, file)\n",
    "# chandat = np.loadtxt(filename, delimiter=',')\n",
    "# if np.shape(chandat)[0]<np.shape(chandat)[1]:\n",
    "#     chandat = chandat.T\n",
    "# channels = np.shape(chandat)[1]\n",
    "# ci = 61\n",
    "# srate = 256.\n",
    "# tempdat = chandat[:, ci]\n",
    "# psd_array, freqs = data_ecog2(tempdat, srate, ci)\n",
    "\n",
    "# # eeg\n",
    "# file = 'eeg/22.npy'\n",
    "# filename = os.path.join(my_dir, file)\n",
    "# freq_range = [0, 50]\n",
    "# psd_array = np.load(filename)\n",
    "# psd_array = np.log10(psd_array)\n",
    "# psd_array = np.mean(psd_array,0)\n",
    "# range_size = (np.size(range(freq_range[1]))-0)-(np.size(range(freq_range[0]))+0)\n",
    "# freqs = np.linspace(freq_range[0], freq_range[1], range_size)\n",
    "# f_range = [2, 35]\n",
    "\n",
    "# # lfp\n",
    "file = 'lfp/g1018_ch03_raw.npy'\n",
    "filename = os.path.join(my_dir, file)\n",
    "freq_range = [0, 50]\n",
    "psd_array = np.load(filename)\n",
    "psd_array = np.log10(psd_array)\n",
    "psd_array = np.mean(psd_array,0)\n",
    "range_size = (np.size(range(freq_range[1]))-0)-(np.size(range(freq_range[0]))+0)\n",
    "freqs = np.linspace(freq_range[0], freq_range[1], range_size)\n",
    "f_range = [2, 45]\n",
    "\n",
    "# # Run FOOOF\n",
    "ff = FOOOF()\n",
    "f_range = [3, 40]\n",
    "%time ff.fit(freqs, psd_array, f_range)\n"
   ]
  },
  {
   "cell_type": "code",
   "execution_count": 77,
   "metadata": {},
   "outputs": [
    {
     "name": "stdout",
     "output_type": "stream",
     "text": [
      "[  5.82518404   1.05897823  12.40974113  11.16806159]\n",
      "[[5.9278171276189022, 0.24621573293273058, 1.4342519575406436], [10.213415177935522, 1.5312606886836548, 1.6215717329144699], [14.327020694953051, 0.12581976754182411, 1.5613907438255301], [19.306959133550137, 0.15763574439835124, 1.7604857026484821]]\n"
     ]
    }
   ],
   "source": [
    "def decision_criterion(amp_params, bw_params):\n",
    "    foo = (np.divide(bw_params,amp_params))\n",
    "    print(foo)\n",
    "    keep_parameter = foo < 20\n",
    "        \n",
    "\n",
    "    return keep_parameter\n",
    "\n",
    "\n",
    "osc_params = group_three(oscillation_params)\n",
    "amp_params = [item[1] for item in osc_params]\n",
    "bw_params = [item[2] for item in osc_params]\n",
    "keep_osc = decision_criterion(amp_params, bw_params)\n",
    "guess = [d for (d, remove) in zip(osc_params, keep_osc) if remove]\n",
    "\n",
    "print(guess)\n",
    "\n"
   ]
  },
  {
   "cell_type": "code",
   "execution_count": 32,
   "metadata": {},
   "outputs": [
    {
     "name": "stdout",
     "output_type": "stream",
     "text": [
      "CPU times: user 117 ms, sys: 626 µs, total: 117 ms\n",
      "Wall time: 60.1 ms\n"
     ]
    },
    {
     "data": {
      "image/png": "[encoded data removed]",
      "text/plain": [
       "<matplotlib.figure.Figure at 0x110bbcd68>"
      ]
     },
     "metadata": {},
     "output_type": "display_data"
    },
    {
     "name": "stdout",
     "output_type": "stream",
     "text": [
      "[ -2.01548741e+01  -1.15505074e+00   3.31599259e-25]\n",
      "[  9.77898626   0.86685477   3.20091149  19.4921793    0.7140612\n",
      "   6.17443464  24.98914139   0.05569687   0.5         30.3112987\n",
      "   0.16325199   2.88260015]\n"
     ]
    }
   ],
   "source": [
    "# OR: load MEG data from npy file\n",
    "\n",
    "dat = np.load('meg_dat.npy')\n",
    "\n",
    "freqs = dat[0]\n",
    "psd = dat[1]\n",
    "\n",
    "# Set which PSD to run\n",
    "cur_psd = psd[0, :]\n",
    "\n",
    "# Fix up PSD\n",
    "psd_array = np.log10(cur_psd)\n",
    "psd_array = np.vstack((psd_array, psd_array))\n",
    "psd_array = psd_array.T\n",
    "\n",
    "# FOOOF SETTINGS\n",
    "window_around_max = 3\n",
    "number_of_gaussians = 6\n",
    "cut_freqs = [1, 50]\n",
    "bw_limits = [0.5, 8]\n",
    "\n",
    "# Run FOOOF\n",
    "%time p_flat_real, frequency_vector, trimmed_psd, psd_fit, background_fit, gaussian_fit, background_params, oscillation_params = \\\n",
    "    fooof(freqs, psd_array, cut_freqs, number_of_gaussians, window_around_max, bw_limits)\n",
    "\n",
    "plt.plot(frequency_vector, trimmed_psd, 'k')\n",
    "plt.plot(frequency_vector, psd_fit, 'r')\n",
    "plt.show()\n",
    "print(background_params)\n",
    "print(oscillation_params)"
   ]
  },
  {
   "cell_type": "code",
   "execution_count": 71,
   "metadata": {
    "collapsed": true
   },
   "outputs": [],
   "source": [
    "# LFP\n",
    "\n",
    "import os\n",
    "\n",
    "# FOOOF SETTINGS\n",
    "window_around_max = 3\n",
    "number_of_gaussians = 5\n",
    "cut_freqs = [2, 45]\n",
    "bw_limits = [0.5, 6]\n",
    "\n",
    "col_cf = []\n",
    "col_bw = []\n",
    "col_file = []\n",
    "my_dir = '/Users/Voytek/fooof/data/lfp'\n",
    "for file in os.listdir(my_dir):\n",
    "    if file.endswith('.npy'):\n",
    "        # lfp\n",
    "        filename = os.path.join(my_dir, file)\n",
    "        freq_range = [0, 49]\n",
    "        psd_array = np.load(filename)\n",
    "        psd_array = np.log10(psd_array)\n",
    "        range_size = (np.size(range(freq_range[1]))-0)-(np.size(range(freq_range[0]))+0)\n",
    "        freqs = np.linspace(freq_range[0], freq_range[1], range_size)\n",
    "        # Fix up PSD\n",
    "        psd_array = np.vstack((psd_array, psd_array))\n",
    "        psd_array = psd_array.T\n",
    "\n",
    "        # Run FOOOF\n",
    "        p_flat_real, frequency_vector, trimmed_psd, psd_fit, background_fit, gaussian_fit, background_params, oscillation_params = \\\n",
    "            fooof(freqs, psd_array, cut_freqs, number_of_gaussians, window_around_max, bw_limits)\n",
    "        \n",
    "        if np.any(oscillation_params):\n",
    "            oscillation_params = group_three(oscillation_params)\n",
    "            \n",
    "            \n",
    "            \n",
    "            \n",
    "            amp_params = [item[1] for item in oscillation_params]\n",
    "            bw_params = [item[2] for item in oscillation_params]\n",
    "            keep_osc = decision_criterion(amp_params, bw_params)\n",
    "            oscillation_params = [d for (d, remove) in zip(oscillation_params, keep_osc) if remove]\n",
    "\n",
    "            \n",
    "            \n",
    "            \n",
    "            \n",
    "            for i in range(np.shape(oscillation_params)[0]):\n",
    "                col_cf.append(oscillation_params[i][0])\n",
    "                col_bw.append(oscillation_params[i][2])\n",
    "                col_file.append(file)\n",
    "        else:\n",
    "            col_cf.append(0)\n",
    "            col_bw.append(0)\n",
    "            col_file.append(file)     \n",
    "\n",
    "import pandas as pd\n",
    "d = {'file': col_file, 'cf': col_cf, 'bw': col_bw}\n",
    "df = pd.DataFrame(data=d)\n",
    "df = df[['file', 'cf', 'bw']]\n",
    "df.to_csv('lfp.csv', sep=',', index = False)"
   ]
  },
  {
   "cell_type": "code",
   "execution_count": 80,
   "metadata": {
    "collapsed": true
   },
   "outputs": [],
   "source": [
    "# EEG\n",
    "\n",
    "import os\n",
    "\n",
    "# FOOOF SETTINGS\n",
    "window_around_max = 3\n",
    "number_of_gaussians = 5\n",
    "cut_freqs = [2, 35]\n",
    "bw_limits = [1, 6]\n",
    "\n",
    "col_cf = []\n",
    "col_bw = []\n",
    "col_file = []\n",
    "my_dir = '/Users/Voytek/fooof/data/eeg'\n",
    "for file in os.listdir(my_dir):\n",
    "    if file.endswith('.npy'):\n",
    "        # eeg\n",
    "        filename = os.path.join(my_dir, file)\n",
    "        freq_range = [0, 49]\n",
    "        psd_array = np.load(filename)\n",
    "        psd_array = np.log10(psd_array)\n",
    "        range_size = (np.size(range(freq_range[1]))-0)-(np.size(range(freq_range[0]))+0)\n",
    "        freqs = np.linspace(freq_range[0], freq_range[1], range_size)\n",
    "        # Fix up PSD\n",
    "        psd_array = np.vstack((psd_array, psd_array))\n",
    "        psd_array = psd_array.T\n",
    "        \n",
    "        # Run FOOOF\n",
    "        p_flat_real, frequency_vector, trimmed_psd, psd_fit, background_fit, gaussian_fit, background_params, oscillation_params = \\\n",
    "            fooof(freqs, psd_array, cut_freqs, number_of_gaussians, window_around_max, bw_limits)\n",
    "        \n",
    "        if np.any(oscillation_params):\n",
    "            oscillation_params = group_three(oscillation_params)\n",
    "\n",
    "            for i in range(np.shape(oscillation_params)[0]):\n",
    "                col_cf.append(oscillation_params[i][0])\n",
    "                col_bw.append(oscillation_params[i][2])\n",
    "                col_file.append(file)\n",
    "        else:\n",
    "            col_cf.append(0)\n",
    "            col_bw.append(0)\n",
    "            col_file.append(file)\n",
    "\n",
    "import pandas as pd\n",
    "d = {'file': col_file, 'cf': col_cf, 'bw': col_bw}\n",
    "df = pd.DataFrame(data=d)\n",
    "df = df[['file', 'cf', 'bw']]\n",
    "df.to_csv('eeg.csv', sep=',', index = False)"
   ]
  },
  {
   "cell_type": "code",
   "execution_count": null,
   "metadata": {
    "collapsed": true
   },
   "outputs": [],
   "source": [
    "from scipy import stats\n",
    "\n",
    "eeg = pd.read_csv('fits/eeg.csv', sep=',')\n",
    "# plt.scatter(eeg[['cf']], eeg[['bw']], color='b')\n",
    "\n",
    "lfp = pd.read_csv('fits/lfp.csv', sep=',')\n",
    "# plt.scatter(lfp[['cf']], lfp[['bw']], color='g')\n",
    "# plt.show()\n",
    "\n",
    "frames = [lfp]\n",
    "\n",
    "df = pd.concat(frames)\n",
    "\n",
    "df = df[df['bw'] < 8]\n",
    "df = df[df['bw'] > 0.5]\n",
    "df = df[df['cf'] < 50]\n",
    "\n",
    "plt.scatter(df[['cf']], df[['bw']])\n",
    "plt.show()\n",
    "\n",
    "r,p = stats.pearsonr(df[['cf']], df[['bw']])\n",
    "r,p"
   ]
  },
  {
   "cell_type": "code",
   "execution_count": null,
   "metadata": {
    "collapsed": true
   },
   "outputs": [],
   "source": []
  },
  {
   "cell_type": "code",
   "execution_count": null,
   "metadata": {
    "collapsed": true
   },
   "outputs": [],
   "source": [
    "# real eeg\n",
    "\n",
    "import os\n",
    "from fooof.dat import data_ecog\n",
    "import pandas as pd\n",
    "\n",
    "\n",
    "col_cf = []\n",
    "col_bw = []\n",
    "col_amp = []\n",
    "col_offset = []\n",
    "col_slope = []\n",
    "col_curve = []\n",
    "col_chan = []\n",
    "col_file = []\n",
    "\n",
    "srate = 256.\n",
    "# FOOOF SETTINGS\n",
    "window_around_max = 4\n",
    "number_of_gaussians = 6\n",
    "cut_freqs = [2, 30]\n",
    "bw_limits = [0.5, 8]\n",
    "\n",
    "my_dir = '/Users/Voytek/fooof/data'\n",
    "for file in os.listdir(my_dir):\n",
    "    if file.endswith('.csv'):\n",
    "        filename = os.path.join(my_dir, file)\n",
    "\n",
    "        chandat = np.loadtxt(filename, delimiter=\",\")\n",
    "        if np.shape(chandat)[0]<np.shape(chandat)[1]:\n",
    "            chandat = chandat.T\n",
    "        \n",
    "        channels = np.shape(chandat)[1]\n",
    "        \n",
    "        for ci in range(channels):\n",
    "            tempdat = chandat[:, ci]\n",
    "            psd_array, freqs = data_ecog2(tempdat, srate, ci)\n",
    "\n",
    "\n",
    "            # Run FOOOF\n",
    "            p_flat_real, frequency_vector, trimmed_psd, psd_fit, background_fit, gaussian_fit, background_params, oscillation_params = \\\n",
    "                fooof(freqs, psd_array, cut_freqs, number_of_gaussians, window_around_max, bw_limits)\n",
    "\n",
    "            if np.any(oscillation_params):\n",
    "                oscillation_params = group_three(oscillation_params)\n",
    "\n",
    "                for i in range(np.shape(oscillation_params)[0]):\n",
    "                    col_cf.append(oscillation_params[i][0])\n",
    "                    col_amp.append(oscillation_params[i][1])\n",
    "                    col_bw.append(oscillation_params[i][2])\n",
    "                    col_offset.append(background_params[0])\n",
    "                    col_slope.append(background_params[2])\n",
    "                    col_curve.append(background_params[1])\n",
    "                    col_chan.append(ci)\n",
    "                    col_file.append(file)\n",
    "            else:\n",
    "                col_cf.append(0)\n",
    "                col_amp.append(0)\n",
    "                col_bw.append(0)\n",
    "                col_offset.append(background_params[0])\n",
    "                col_slope.append(background_params[2])\n",
    "                col_curve.append(background_params[1])\n",
    "                col_chan.append(ci)\n",
    "                col_file.append(file)\n",
    "\n",
    "\n",
    "d = {'file': col_file, 'cf': col_cf, 'bw': col_bw, 'amp': col_amp, 'offset': col_offset, 'slope': col_slope, 'curve': col_curve, 'chan': col_chan}\n",
    "df = pd.DataFrame(data=d)\n",
    "df = df[['file', 'chan', 'cf', 'bw', 'amp', 'offset', 'slope', 'curve']]\n",
    "df.to_csv('real_eeg.csv', sep=',', index = False)\n"
   ]
  },
  {
   "cell_type": "code",
   "execution_count": 35,
   "metadata": {},
   "outputs": [
    {
     "data": {
      "image/png": "[encoded data removed]",
      "text/plain": [
       "<matplotlib.figure.Figure at 0x1245a0668>"
      ]
     },
     "metadata": {},
     "output_type": "display_data"
    },
    {
     "name": "stdout",
     "output_type": "stream",
     "text": [
      "[  1.27747987e+00  -9.66150585e-18  -9.58773125e-01]\n",
      "[ 19.79807788   0.13566692   1.62650247  23.3628401    0.2026741\n",
      "   2.60628783  18.33338336   0.55681895   4.64083126   9.84174738\n",
      "   0.26074297   1.16012291]\n"
     ]
    }
   ],
   "source": [
    "# real eeg\n",
    "\n",
    "import os\n",
    "from fooof.dat import data_ecog\n",
    "import pandas as pd\n",
    "\n",
    "\n",
    "col_cf = []\n",
    "col_bw = []\n",
    "col_amp = []\n",
    "col_offset = []\n",
    "col_slope = []\n",
    "col_curve = []\n",
    "col_chan = []\n",
    "col_file = []\n",
    "\n",
    "srate = 256.\n",
    "# FOOOF SETTINGS\n",
    "window_around_max = 4\n",
    "number_of_gaussians = 6\n",
    "cut_freqs = [2, 30]\n",
    "bw_limits = [0.5, 10]\n",
    "\n",
    "filename = os.path.join('/Users/Voytek/fooof/data/6.csv')\n",
    "\n",
    "chandat = np.loadtxt(filename, delimiter=\",\")\n",
    "if np.shape(chandat)[0]<np.shape(chandat)[1]:\n",
    "    chandat = chandat.T\n",
    "\n",
    "channels = np.shape(chandat)[1]\n",
    "\n",
    "ci=46\n",
    "\n",
    "tempdat = chandat[:, ci]\n",
    "psd_array, freqs = data_ecog2(tempdat, srate, ci)\n",
    "\n",
    "\n",
    "# Run FOOOF\n",
    "p_flat_real, frequency_vector, trimmed_psd, psd_fit, background_fit, gaussian_fit, background_params, oscillation_params = \\\n",
    "    fooof(freqs, psd_array, cut_freqs, number_of_gaussians, window_around_max, bw_limits)\n",
    "\n",
    "plt.plot(frequency_vector, trimmed_psd, 'k')\n",
    "plt.plot(frequency_vector, psd_fit, 'r')\n",
    "plt.show()\n",
    "print(background_params)\n",
    "print(oscillation_params)"
   ]
  },
  {
   "cell_type": "code",
   "execution_count": null,
   "metadata": {
    "collapsed": true
   },
   "outputs": [],
   "source": [
    "from scipy import stats\n",
    "import pandas as pd\n",
    "\n",
    "df = pd.read_csv('real_eeg.csv', sep=',')\n",
    "\n",
    "\n",
    "df = df[df['bw'] < 5]\n",
    "df = df[df['bw'] > 0.5]\n",
    "df = df[df['cf'] < 35]\n",
    "df = df[df['slope'] > -5]\n",
    "df = df[df['slope'] < 0]\n",
    "\n",
    "plt.scatter(df[['cf']], df[['bw']])\n",
    "plt.show()\n",
    "\n",
    "r,p = stats.pearsonr(df[['cf']], df[['bw']])\n",
    "r,p"
   ]
  },
  {
   "cell_type": "code",
   "execution_count": null,
   "metadata": {
    "collapsed": true
   },
   "outputs": [],
   "source": []
  },
  {
   "cell_type": "code",
   "execution_count": null,
   "metadata": {
    "collapsed": true
   },
   "outputs": [],
   "source": []
  },
  {
   "cell_type": "code",
   "execution_count": null,
   "metadata": {
    "collapsed": true
   },
   "outputs": [],
   "source": []
  },
  {
   "cell_type": "code",
   "execution_count": null,
   "metadata": {
    "collapsed": true
   },
   "outputs": [],
   "source": []
  },
  {
   "cell_type": "code",
   "execution_count": null,
   "metadata": {
    "collapsed": true
   },
   "outputs": [],
   "source": []
  },
  {
   "cell_type": "code",
   "execution_count": null,
   "metadata": {
    "collapsed": true
   },
   "outputs": [],
   "source": []
  },
  {
   "cell_type": "code",
   "execution_count": null,
   "metadata": {
    "collapsed": true
   },
   "outputs": [],
   "source": []
  },
  {
   "cell_type": "code",
   "execution_count": null,
   "metadata": {
    "collapsed": true
   },
   "outputs": [],
   "source": []
  }
 ],
 "metadata": {
  "anaconda-cloud": {},
  "kernelspec": {
   "display_name": "Python 3",
   "language": "python",
   "name": "python3"
  },
  "language_info": {
   "codemirror_mode": {
    "name": "ipython",
    "version": 3
   },
   "file_extension": ".py",
   "mimetype": "text/x-python",
   "name": "python",
   "nbconvert_exporter": "python",
   "pygments_lexer": "ipython3",
   "version": "3.5.3"
  }
 },
 "nbformat": 4,
 "nbformat_minor": 1
}
